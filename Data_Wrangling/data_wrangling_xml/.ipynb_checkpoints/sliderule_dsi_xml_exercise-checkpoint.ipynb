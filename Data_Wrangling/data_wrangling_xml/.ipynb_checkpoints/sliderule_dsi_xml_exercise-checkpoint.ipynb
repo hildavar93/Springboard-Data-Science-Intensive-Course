{
 "cells": [
  {
   "cell_type": "markdown",
   "metadata": {},
   "source": [
    "# XML example and exercise\n",
    "****\n",
    "+ study examples of accessing nodes in XML tree structure  \n",
    "+ work on exercise to be completed and submitted\n",
    "****\n",
    "+ reference: https://docs.python.org/2.7/library/xml.etree.elementtree.html\n",
    "+ data source: http://www.dbis.informatik.uni-goettingen.de/Mondial\n",
    "****"
   ]
  },
  {
   "cell_type": "code",
   "execution_count": 28,
   "metadata": {
    "collapsed": true
   },
   "outputs": [],
   "source": [
    "from xml.etree import ElementTree as ET"
   ]
  },
  {
   "cell_type": "markdown",
   "metadata": {},
   "source": [
    "## XML example\n",
    "\n",
    "+ for details about tree traversal and iterators, see https://docs.python.org/2.7/library/xml.etree.elementtree.html"
   ]
  },
  {
   "cell_type": "code",
   "execution_count": 29,
   "metadata": {
    "collapsed": false
   },
   "outputs": [],
   "source": [
    "document_tree = ET.parse( './data/mondial_database_less.xml' )"
   ]
  },
  {
   "cell_type": "code",
   "execution_count": 30,
   "metadata": {
    "collapsed": false
   },
   "outputs": [
    {
     "name": "stdout",
     "output_type": "stream",
     "text": [
      "Albania\n",
      "Greece\n",
      "Macedonia\n",
      "Serbia\n",
      "Montenegro\n",
      "Kosovo\n",
      "Andorra\n"
     ]
    }
   ],
   "source": [
    "# print names of all countries\n",
    "for child in document_tree.getroot():\n",
    "    print (child.find('name').text)"
   ]
  },
  {
   "cell_type": "code",
   "execution_count": 31,
   "metadata": {
    "collapsed": false
   },
   "outputs": [
    {
     "name": "stdout",
     "output_type": "stream",
     "text": [
      "* Albania:\n",
      "Tirana, Shkodër, Durrës, Vlorë, Elbasan, Korçë\n",
      "* Greece:\n",
      "Komotini, Kavala, Athina, Peiraias, Peristeri, Acharnes, Patra, Kozani, Kerkyra, Ioannina, Thessaloniki, Iraklio, Chania, Ermoupoli, Rhodes, Tripoli, Lamia, Chalkida, Larissa, Volos, Mytilini, Karyes\n",
      "* Macedonia:\n",
      "Skopje, Kumanovo\n",
      "* Serbia:\n",
      "Beograd, Novi Sad, Niš\n",
      "* Montenegro:\n",
      "Podgorica\n",
      "* Kosovo:\n",
      "Prishtine\n",
      "* Andorra:\n",
      "Andorra la Vella\n"
     ]
    }
   ],
   "source": [
    "# print names of all countries and their cities\n",
    "for element in document_tree.iterfind('country'):\n",
    "    print ('* ' + element.find('name').text + ':'),\n",
    "    capitals_string = ''\n",
    "    for subelement in element.getiterator('city'):\n",
    "        capitals_string += subelement.find('name').text + ', '\n",
    "    print (capitals_string[:-2])"
   ]
  },
  {
   "cell_type": "markdown",
   "metadata": {},
   "source": [
    "****\n",
    "## XML exercise\n",
    "\n",
    "Using data in 'data/mondial_database.xml', the examples above, and refering to https://docs.python.org/2.7/library/xml.etree.elementtree.html, find\n",
    "\n",
    "1. 10 countries with the lowest infant mortality rates\n",
    "2. 10 cities with the largest population\n",
    "3. 10 ethnic groups with the largest overall populations (sum of best/latest estimates over all countries)\n",
    "4. name and country of a) longest river, b) largest lake and c) airport at highest elevation"
   ]
  },
  {
   "cell_type": "code",
   "execution_count": 32,
   "metadata": {
    "collapsed": false
   },
   "outputs": [],
   "source": [
    "document_tree = ET.parse( './data/mondial_database.xml' )"
   ]
  },
  {
   "cell_type": "code",
   "execution_count": 58,
   "metadata": {
    "collapsed": false,
    "scrolled": true
   },
   "outputs": [
    {
     "data": {
      "text/plain": [
       "[<Element 'name' at 0x107e8c908>,\n",
       " <Element 'population' at 0x107e8c8b8>,\n",
       " <Element 'population' at 0x107e8c688>,\n",
       " <Element 'population' at 0x107e8c818>,\n",
       " <Element 'population' at 0x107e8c7c8>,\n",
       " <Element 'population' at 0x107e8c778>,\n",
       " <Element 'population' at 0x107e8c728>,\n",
       " <Element 'population' at 0x107e8c6d8>,\n",
       " <Element 'population' at 0x107e8c4a8>,\n",
       " <Element 'population' at 0x107e8c638>,\n",
       " <Element 'population_growth' at 0x107e8c5e8>,\n",
       " <Element 'infant_mortality' at 0x107e8c598>,\n",
       " <Element 'gdp_total' at 0x107e8c548>,\n",
       " <Element 'gdp_agri' at 0x107e8c4f8>,\n",
       " <Element 'gdp_ind' at 0x107e8c2c8>,\n",
       " <Element 'gdp_serv' at 0x107e8c458>,\n",
       " <Element 'inflation' at 0x107e8c408>,\n",
       " <Element 'unemployment' at 0x107e8c3b8>,\n",
       " <Element 'indep_date' at 0x107e8c368>,\n",
       " <Element 'government' at 0x107e8c318>,\n",
       " <Element 'encompassed' at 0x107e8c0e8>,\n",
       " <Element 'ethnicgroup' at 0x107e8c278>,\n",
       " <Element 'ethnicgroup' at 0x107e8c228>,\n",
       " <Element 'religion' at 0x107e8c1d8>,\n",
       " <Element 'religion' at 0x107e8c188>,\n",
       " <Element 'religion' at 0x107e8c138>,\n",
       " <Element 'language' at 0x107e8c098>,\n",
       " <Element 'language' at 0x107e8c048>,\n",
       " <Element 'border' at 0x106d0c908>,\n",
       " <Element 'border' at 0x106d0c048>,\n",
       " <Element 'border' at 0x106d0c098>,\n",
       " <Element 'border' at 0x106d0c0e8>,\n",
       " <Element 'city' at 0x106d0c138>,\n",
       " <Element 'city' at 0x106d0c458>,\n",
       " <Element 'city' at 0x106d0c638>,\n",
       " <Element 'city' at 0x106d0cc78>,\n",
       " <Element 'city' at 0x106d0cb38>,\n",
       " <Element 'city' at 0x106d0cd18>]"
      ]
     },
     "execution_count": 58,
     "metadata": {},
     "output_type": "execute_result"
    }
   ],
   "source": [
    "import lxml\n",
    "root=document_tree.getroot()\n",
    "root\n",
    "\n",
    "root.getchildren()[0].getchildren()"
   ]
  },
  {
   "cell_type": "code",
   "execution_count": 66,
   "metadata": {
    "collapsed": false
   },
   "outputs": [],
   "source": [
    "import pandas as pd\n",
    "\n",
    "#Create empty dataframe to hold infant mortality data\n",
    "inf=pd.DataFrame(columns=('Country', 'Infant Mortality'))\n",
    "\n",
    "for country in document_tree.iterfind('country'):\n",
    "    for inf in country.iterfind('infant_mortality'):\n",
    "        df=pd.DataFrame([[country.find('name').text, country.find('infant_mortality').text]], \n",
    "                        columns=['country','infant_mortality'])\n",
    "\n"
   ]
  },
  {
   "cell_type": "code",
   "execution_count": 67,
   "metadata": {
    "collapsed": false
   },
   "outputs": [
    {
     "ename": "TypeError",
     "evalue": "append() argument must be xml.etree.ElementTree.Element, not DataFrame",
     "output_type": "error",
     "traceback": [
      "\u001b[0;31m---------------------------------------------------------------------------\u001b[0m",
      "\u001b[0;31mTypeError\u001b[0m                                 Traceback (most recent call last)",
      "\u001b[0;32m<ipython-input-67-bbeac3a151ee>\u001b[0m in \u001b[0;36m<module>\u001b[0;34m()\u001b[0m\n\u001b[0;32m----> 1\u001b[0;31m \u001b[0minf\u001b[0m\u001b[0;34m=\u001b[0m\u001b[0minf\u001b[0m\u001b[0;34m.\u001b[0m\u001b[0mappend\u001b[0m\u001b[0;34m(\u001b[0m\u001b[0mdf\u001b[0m\u001b[0;34m)\u001b[0m\u001b[0;34m\u001b[0m\u001b[0m\n\u001b[0m",
      "\u001b[0;31mTypeError\u001b[0m: append() argument must be xml.etree.ElementTree.Element, not DataFrame"
     ]
    }
   ],
   "source": [
    "inf=inf.append(df)"
   ]
  },
  {
   "cell_type": "code",
   "execution_count": 68,
   "metadata": {
    "collapsed": false
   },
   "outputs": [
    {
     "name": "stdout",
     "output_type": "stream",
     "text": [
      "10.77\n"
     ]
    }
   ],
   "source": [
    "print(country.find('infant_mortality').text)"
   ]
  },
  {
   "cell_type": "code",
   "execution_count": 77,
   "metadata": {
    "collapsed": false
   },
   "outputs": [
    {
     "ename": "SyntaxError",
     "evalue": "invalid syntax (<ipython-input-77-fd8785e3f139>, line 3)",
     "output_type": "error",
     "traceback": [
      "\u001b[0;36m  File \u001b[0;32m\"<ipython-input-77-fd8785e3f139>\"\u001b[0;36m, line \u001b[0;32m3\u001b[0m\n\u001b[0;31m    for mort in country.iterfind('infant_mortality')\u001b[0m\n\u001b[0m                                                    ^\u001b[0m\n\u001b[0;31mSyntaxError\u001b[0m\u001b[0;31m:\u001b[0m invalid syntax\n"
     ]
    }
   ],
   "source": [
    "for element in document_tree.iterfind('country'):\n",
    "    print(element.find('name').text + \":\")\n",
    "for mort in country.iterfind('infant_mortality')\n",
    "    print(element.find('inf_mortality').text)"
   ]
  },
  {
   "cell_type": "code",
   "execution_count": null,
   "metadata": {
    "collapsed": true
   },
   "outputs": [],
   "source": []
  }
 ],
 "metadata": {
  "anaconda-cloud": {},
  "kernelspec": {
   "display_name": "Python [conda root]",
   "language": "python",
   "name": "conda-root-py"
  },
  "language_info": {
   "codemirror_mode": {
    "name": "ipython",
    "version": 3
   },
   "file_extension": ".py",
   "mimetype": "text/x-python",
   "name": "python",
   "nbconvert_exporter": "python",
   "pygments_lexer": "ipython3",
   "version": "3.5.2"
  }
 },
 "nbformat": 4,
 "nbformat_minor": 0
}
