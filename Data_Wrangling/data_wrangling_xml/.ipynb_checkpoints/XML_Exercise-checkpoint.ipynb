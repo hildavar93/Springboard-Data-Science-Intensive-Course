{
 "cells": [
  {
   "cell_type": "markdown",
   "metadata": {},
   "source": [
    "# XML example and exercise\n",
    "****\n",
    "+ study examples of accessing nodes in XML tree structure  \n",
    "+ work on exercise to be completed and submitted\n",
    "****\n",
    "+ reference: https://docs.python.org/2.7/library/xml.etree.elementtree.html\n",
    "+ data source: http://www.dbis.informatik.uni-goettingen.de/Mondial\n",
    "****"
   ]
  },
  {
   "cell_type": "code",
   "execution_count": 1,
   "metadata": {
    "collapsed": true
   },
   "outputs": [],
   "source": [
    "from xml.etree import ElementTree as ET"
   ]
  },
  {
   "cell_type": "markdown",
   "metadata": {},
   "source": [
    "## XML example\n",
    "\n",
    "+ for details about tree traversal and iterators, see https://docs.python.org/2.7/library/xml.etree.elementtree.html"
   ]
  },
  {
   "cell_type": "code",
   "execution_count": 2,
   "metadata": {
    "collapsed": false
   },
   "outputs": [],
   "source": [
    "document_tree = ET.parse( './data/mondial_database_less.xml' )"
   ]
  },
  {
   "cell_type": "code",
   "execution_count": 3,
   "metadata": {
    "collapsed": false
   },
   "outputs": [
    {
     "name": "stdout",
     "output_type": "stream",
     "text": [
      "Albania\n",
      "Greece\n",
      "Macedonia\n",
      "Serbia\n",
      "Montenegro\n",
      "Kosovo\n",
      "Andorra\n"
     ]
    }
   ],
   "source": [
    "# print names of all countries\n",
    "for child in document_tree.getroot():\n",
    "    print (child.find('name').text)"
   ]
  },
  {
   "cell_type": "code",
   "execution_count": 4,
   "metadata": {
    "collapsed": false
   },
   "outputs": [
    {
     "name": "stdout",
     "output_type": "stream",
     "text": [
      "* Albania:\n",
      "Tirana, Shkodër, Durrës, Vlorë, Elbasan, Korçë\n",
      "* Greece:\n",
      "Komotini, Kavala, Athina, Peiraias, Peristeri, Acharnes, Patra, Kozani, Kerkyra, Ioannina, Thessaloniki, Iraklio, Chania, Ermoupoli, Rhodes, Tripoli, Lamia, Chalkida, Larissa, Volos, Mytilini, Karyes\n",
      "* Macedonia:\n",
      "Skopje, Kumanovo\n",
      "* Serbia:\n",
      "Beograd, Novi Sad, Niš\n",
      "* Montenegro:\n",
      "Podgorica\n",
      "* Kosovo:\n",
      "Prishtine\n",
      "* Andorra:\n",
      "Andorra la Vella\n"
     ]
    }
   ],
   "source": [
    "# print names of all countries and their cities\n",
    "for element in document_tree.iterfind('country'):\n",
    "    print ('* ' + element.find('name').text + ':'),\n",
    "    capitals_string = ''\n",
    "    for subelement in element.getiterator('city'):\n",
    "        capitals_string += subelement.find('name').text + ', '\n",
    "    print (capitals_string[:-2])"
   ]
  },
  {
   "cell_type": "markdown",
   "metadata": {},
   "source": [
    "****\n",
    "## XML exercise\n",
    "\n",
    "Using data in 'data/mondial_database.xml', the examples above, and refering to https://docs.python.org/2.7/library/xml.etree.elementtree.html, find\n",
    "\n",
    "1. 10 countries with the lowest infant mortality rates\n",
    "2. 10 cities with the largest population\n",
    "3. 10 ethnic groups with the largest overall populations (sum of best/latest estimates over all countries)\n",
    "4. name and country of a) longest river, b) largest lake and c) airport at highest elevation"
   ]
  },
  {
   "cell_type": "code",
   "execution_count": 5,
   "metadata": {
    "collapsed": false
   },
   "outputs": [],
   "source": [
    "doc = ET.parse( './data/mondial_database.xml' )"
   ]
  },
  {
   "cell_type": "markdown",
   "metadata": {},
   "source": [
    "### 1. Find 10 countries with the lowest infant mortality rates"
   ]
  },
  {
   "cell_type": "code",
   "execution_count": 6,
   "metadata": {
    "collapsed": false,
    "scrolled": true
   },
   "outputs": [],
   "source": [
    "# Create empty list to hold countries and their infant mortality rates\n",
    "ifm=[]\n",
    "\n",
    "# Iterate over country and add each country's infant mortality (if it exists in the document) and add it to the list\n",
    "for country in doc.iter('country'):\n",
    "    if country.find('infant_mortality') is not None:\n",
    "        ifm.append([country.find('name').text, country.find('infant_mortality').text])"
   ]
  },
  {
   "cell_type": "code",
   "execution_count": 7,
   "metadata": {
    "collapsed": false
   },
   "outputs": [
    {
     "data": {
      "text/html": [
       "<div>\n",
       "<table border=\"1\" class=\"dataframe\">\n",
       "  <thead>\n",
       "    <tr style=\"text-align: right;\">\n",
       "      <th></th>\n",
       "      <th>country</th>\n",
       "      <th>infant_mortality</th>\n",
       "    </tr>\n",
       "  </thead>\n",
       "  <tbody>\n",
       "    <tr>\n",
       "      <th>36</th>\n",
       "      <td>Monaco</td>\n",
       "      <td>1.81</td>\n",
       "    </tr>\n",
       "    <tr>\n",
       "      <th>90</th>\n",
       "      <td>Japan</td>\n",
       "      <td>2.13</td>\n",
       "    </tr>\n",
       "    <tr>\n",
       "      <th>109</th>\n",
       "      <td>Bermuda</td>\n",
       "      <td>2.48</td>\n",
       "    </tr>\n",
       "    <tr>\n",
       "      <th>34</th>\n",
       "      <td>Norway</td>\n",
       "      <td>2.48</td>\n",
       "    </tr>\n",
       "    <tr>\n",
       "      <th>98</th>\n",
       "      <td>Singapore</td>\n",
       "      <td>2.53</td>\n",
       "    </tr>\n",
       "    <tr>\n",
       "      <th>35</th>\n",
       "      <td>Sweden</td>\n",
       "      <td>2.60</td>\n",
       "    </tr>\n",
       "    <tr>\n",
       "      <th>8</th>\n",
       "      <td>Czech Republic</td>\n",
       "      <td>2.63</td>\n",
       "    </tr>\n",
       "    <tr>\n",
       "      <th>72</th>\n",
       "      <td>Hong Kong</td>\n",
       "      <td>2.73</td>\n",
       "    </tr>\n",
       "    <tr>\n",
       "      <th>73</th>\n",
       "      <td>Macao</td>\n",
       "      <td>3.13</td>\n",
       "    </tr>\n",
       "    <tr>\n",
       "      <th>39</th>\n",
       "      <td>Iceland</td>\n",
       "      <td>3.15</td>\n",
       "    </tr>\n",
       "  </tbody>\n",
       "</table>\n",
       "</div>"
      ],
      "text/plain": [
       "            country  infant_mortality\n",
       "36           Monaco              1.81\n",
       "90            Japan              2.13\n",
       "109         Bermuda              2.48\n",
       "34           Norway              2.48\n",
       "98        Singapore              2.53\n",
       "35           Sweden              2.60\n",
       "8    Czech Republic              2.63\n",
       "72        Hong Kong              2.73\n",
       "73            Macao              3.13\n",
       "39          Iceland              3.15"
      ]
     },
     "execution_count": 7,
     "metadata": {},
     "output_type": "execute_result"
    }
   ],
   "source": [
    "import pandas as pd\n",
    "\n",
    "# Convert list to dataframe\n",
    "ifm_df=pd.DataFrame(ifm)\n",
    "ifm_df.columns=['country', 'infant_mortality']\n",
    "\n",
    "# Make sure the values for infant mortality rates are being read as numbers and sort for lowest infant mortality rate\n",
    "ifm_df.infant_mortality=pd.to_numeric(ifm_df.infant_mortality,errors='coerce')\n",
    "ifm_df.sort_values(by='infant_mortality',ascending=True).head(10)\n",
    "ifm_df.sort_values('infant_mortality').head(10)"
   ]
  },
  {
   "cell_type": "markdown",
   "metadata": {
    "collapsed": false
   },
   "source": [
    "### 2. Find 10 cities with the largest populations"
   ]
  },
  {
   "cell_type": "code",
   "execution_count": 8,
   "metadata": {
    "collapsed": false,
    "scrolled": true
   },
   "outputs": [],
   "source": [
    "# Create an empty dataframe with columns for each city, its country name, population, and the year in which the\n",
    "# population was recorded\n",
    "pops_df = pd.DataFrame(columns=['city', 'country', 'population','year'])\n",
    "\n",
    "# Iterate over each city in the document and for each city, create a dictionary that holds the year as the key and the\n",
    "# population as a value\n",
    "for city in doc.iter('city'):\n",
    "    pops={}\n",
    "    year=0\n",
    "    country=city.get('country')\n",
    "# Because some cities have several entries listed for populations that were measured in different years, find all population\n",
    "# entries for a given city. Set the dictionary's key as the year and the value as the actual population.\n",
    "    for population in city.findall('population'):\n",
    "        pops[population.get('year')]=population.text\n",
    "# If a given city has several entries for its population, set the key in its dictionary to the most recent year and\n",
    "# set the value to the population corresponding to the most recent year.\n",
    "    if len(pops)!=0:\n",
    "        most_recent_year=max(pops.keys())\n",
    "        most_recent_pop=pops[most_recent_year]\n",
    "    df=pd.DataFrame([[city.find('name').text, country, most_recent_pop, most_recent_year]], columns=['city', 'country', 'population', 'year'])\n",
    "    pops_df=pops_df.append(df)"
   ]
  },
  {
   "cell_type": "code",
   "execution_count": 9,
   "metadata": {
    "collapsed": false
   },
   "outputs": [
    {
     "data": {
      "text/html": [
       "<div>\n",
       "<table border=\"1\" class=\"dataframe\">\n",
       "  <thead>\n",
       "    <tr style=\"text-align: right;\">\n",
       "      <th></th>\n",
       "      <th>city</th>\n",
       "      <th>country</th>\n",
       "      <th>population</th>\n",
       "      <th>year</th>\n",
       "    </tr>\n",
       "  </thead>\n",
       "  <tbody>\n",
       "    <tr>\n",
       "      <th>0</th>\n",
       "      <td>Shanghai</td>\n",
       "      <td>CN</td>\n",
       "      <td>22315474</td>\n",
       "      <td>2010</td>\n",
       "    </tr>\n",
       "    <tr>\n",
       "      <th>0</th>\n",
       "      <td>Istanbul</td>\n",
       "      <td>TR</td>\n",
       "      <td>13710512</td>\n",
       "      <td>2012</td>\n",
       "    </tr>\n",
       "    <tr>\n",
       "      <th>0</th>\n",
       "      <td>Mumbai</td>\n",
       "      <td>IND</td>\n",
       "      <td>12442373</td>\n",
       "      <td>2011</td>\n",
       "    </tr>\n",
       "    <tr>\n",
       "      <th>0</th>\n",
       "      <td>Moskva</td>\n",
       "      <td>R</td>\n",
       "      <td>11979529</td>\n",
       "      <td>2013</td>\n",
       "    </tr>\n",
       "    <tr>\n",
       "      <th>0</th>\n",
       "      <td>Beijing</td>\n",
       "      <td>CN</td>\n",
       "      <td>11716620</td>\n",
       "      <td>2010</td>\n",
       "    </tr>\n",
       "    <tr>\n",
       "      <th>0</th>\n",
       "      <td>São Paulo</td>\n",
       "      <td>BR</td>\n",
       "      <td>11152344</td>\n",
       "      <td>2010</td>\n",
       "    </tr>\n",
       "    <tr>\n",
       "      <th>0</th>\n",
       "      <td>Tianjin</td>\n",
       "      <td>CN</td>\n",
       "      <td>11090314</td>\n",
       "      <td>2010</td>\n",
       "    </tr>\n",
       "    <tr>\n",
       "      <th>0</th>\n",
       "      <td>Guangzhou</td>\n",
       "      <td>CN</td>\n",
       "      <td>11071424</td>\n",
       "      <td>2010</td>\n",
       "    </tr>\n",
       "    <tr>\n",
       "      <th>0</th>\n",
       "      <td>Delhi</td>\n",
       "      <td>IND</td>\n",
       "      <td>11034555</td>\n",
       "      <td>2011</td>\n",
       "    </tr>\n",
       "    <tr>\n",
       "      <th>0</th>\n",
       "      <td>Shenzhen</td>\n",
       "      <td>CN</td>\n",
       "      <td>10358381</td>\n",
       "      <td>2010</td>\n",
       "    </tr>\n",
       "  </tbody>\n",
       "</table>\n",
       "</div>"
      ],
      "text/plain": [
       "        city country  population  year\n",
       "0   Shanghai      CN    22315474  2010\n",
       "0   Istanbul      TR    13710512  2012\n",
       "0     Mumbai     IND    12442373  2011\n",
       "0     Moskva       R    11979529  2013\n",
       "0    Beijing      CN    11716620  2010\n",
       "0  São Paulo      BR    11152344  2010\n",
       "0    Tianjin      CN    11090314  2010\n",
       "0  Guangzhou      CN    11071424  2010\n",
       "0      Delhi     IND    11034555  2011\n",
       "0   Shenzhen      CN    10358381  2010"
      ]
     },
     "execution_count": 9,
     "metadata": {},
     "output_type": "execute_result"
    }
   ],
   "source": [
    "# After appending the values for each city to a dataframe, coerce the population to numeric to make sure it is being read\n",
    "# as a number and sort descending\n",
    "pops_df.population=pd.to_numeric(pops_df.population,errors='coerce')\n",
    "pops_df.sort_values(by='population', ascending=False).head(10)"
   ]
  },
  {
   "cell_type": "markdown",
   "metadata": {
    "collapsed": true
   },
   "source": [
    "### 3. 10 ethnic groups with the largest overall populations (sum of best/latest estimates over all countries)"
   ]
  },
  {
   "cell_type": "code",
   "execution_count": 10,
   "metadata": {
    "collapsed": false,
    "scrolled": true
   },
   "outputs": [],
   "source": [
    "# Create list to hold each country, its ethnic groups, and the percentage of the population that belongs to that group\n",
    "# by iterating over the country.\n",
    "ethn=[]\n",
    "\n",
    "for country in doc.iter('country'):\n",
    "    for ethnic in country.findall('ethnicgroup'):\n",
    "        if ethnic.text is not None:\n",
    "            ethn.append([country.find('name').text, ethnic.text, ethnic.get('percentage')])"
   ]
  },
  {
   "cell_type": "code",
   "execution_count": 11,
   "metadata": {
    "collapsed": false
   },
   "outputs": [
    {
     "data": {
      "text/html": [
       "<div>\n",
       "<table border=\"1\" class=\"dataframe\">\n",
       "  <thead>\n",
       "    <tr style=\"text-align: right;\">\n",
       "      <th></th>\n",
       "      <th>Country</th>\n",
       "      <th>Ethnic Group</th>\n",
       "      <th>Percentage</th>\n",
       "    </tr>\n",
       "  </thead>\n",
       "  <tbody>\n",
       "    <tr>\n",
       "      <th>0</th>\n",
       "      <td>Albania</td>\n",
       "      <td>Albanian</td>\n",
       "      <td>95</td>\n",
       "    </tr>\n",
       "    <tr>\n",
       "      <th>1</th>\n",
       "      <td>Albania</td>\n",
       "      <td>Greek</td>\n",
       "      <td>3</td>\n",
       "    </tr>\n",
       "    <tr>\n",
       "      <th>2</th>\n",
       "      <td>Greece</td>\n",
       "      <td>Greek</td>\n",
       "      <td>93</td>\n",
       "    </tr>\n",
       "    <tr>\n",
       "      <th>3</th>\n",
       "      <td>Macedonia</td>\n",
       "      <td>Macedonian</td>\n",
       "      <td>64.2</td>\n",
       "    </tr>\n",
       "    <tr>\n",
       "      <th>4</th>\n",
       "      <td>Macedonia</td>\n",
       "      <td>Albanian</td>\n",
       "      <td>25.2</td>\n",
       "    </tr>\n",
       "  </tbody>\n",
       "</table>\n",
       "</div>"
      ],
      "text/plain": [
       "     Country Ethnic Group Percentage\n",
       "0    Albania     Albanian         95\n",
       "1    Albania        Greek          3\n",
       "2     Greece        Greek         93\n",
       "3  Macedonia   Macedonian       64.2\n",
       "4  Macedonia     Albanian       25.2"
      ]
     },
     "execution_count": 11,
     "metadata": {},
     "output_type": "execute_result"
    }
   ],
   "source": [
    "# Convert list to dataframe\n",
    "ethn_df=pd.DataFrame(ethn, columns=['Country', 'Ethnic Group', 'Percentage'])\n",
    "ethn_df.head()"
   ]
  },
  {
   "cell_type": "code",
   "execution_count": 12,
   "metadata": {
    "collapsed": false
   },
   "outputs": [
    {
     "data": {
      "text/html": [
       "<div>\n",
       "<table border=\"1\" class=\"dataframe\">\n",
       "  <thead>\n",
       "    <tr style=\"text-align: right;\">\n",
       "      <th></th>\n",
       "      <th>Country</th>\n",
       "      <th>population</th>\n",
       "      <th>year</th>\n",
       "    </tr>\n",
       "  </thead>\n",
       "  <tbody>\n",
       "    <tr>\n",
       "      <th>0</th>\n",
       "      <td>Albania</td>\n",
       "      <td>2800138</td>\n",
       "      <td>2011</td>\n",
       "    </tr>\n",
       "    <tr>\n",
       "      <th>0</th>\n",
       "      <td>Greece</td>\n",
       "      <td>10816286</td>\n",
       "      <td>2011</td>\n",
       "    </tr>\n",
       "    <tr>\n",
       "      <th>0</th>\n",
       "      <td>Macedonia</td>\n",
       "      <td>2059794</td>\n",
       "      <td>2011</td>\n",
       "    </tr>\n",
       "    <tr>\n",
       "      <th>0</th>\n",
       "      <td>Serbia</td>\n",
       "      <td>7120666</td>\n",
       "      <td>2011</td>\n",
       "    </tr>\n",
       "    <tr>\n",
       "      <th>0</th>\n",
       "      <td>Montenegro</td>\n",
       "      <td>620029</td>\n",
       "      <td>2011</td>\n",
       "    </tr>\n",
       "  </tbody>\n",
       "</table>\n",
       "</div>"
      ],
      "text/plain": [
       "      Country population  year\n",
       "0     Albania    2800138  2011\n",
       "0      Greece   10816286  2011\n",
       "0   Macedonia    2059794  2011\n",
       "0      Serbia    7120666  2011\n",
       "0  Montenegro     620029  2011"
      ]
     },
     "execution_count": 12,
     "metadata": {},
     "output_type": "execute_result"
    }
   ],
   "source": [
    "# Similar to question #2, create an empty dataframe for the country, its population, and the year in which the population\n",
    "# was measured. Next, create a loop so that each country has its own dictionary for its population and the year.\n",
    "c_pop_df=pd.DataFrame(columns=['Country', 'population', 'year'])\n",
    "for country in doc.iter('country'):\n",
    "    cpop={}\n",
    "    c_recent_yr=0\n",
    "# Because some countries have several entries listed for populations that were measured in different years, find all population\n",
    "# entries for each country. Set the dictionary's key as the year and the value as the actual population.       \n",
    "    for population in country.findall('population'):\n",
    "        cpop[population.get('year')]=population.text\n",
    "# If a given country has several entries for its population, set the key in its dictionary to the most recent year and\n",
    "# set the value to the population corresponding to the most recent year.    \n",
    "    if len(cpop)!=0:\n",
    "        c_recent_year=max(cpop.keys())\n",
    "        c_most_recent_pop=cpop[c_recent_year]\n",
    "    df=pd.DataFrame([[country.find('name').text, c_most_recent_pop, c_recent_year]], columns=['Country', 'population', 'year'])\n",
    "    c_pop_df=c_pop_df.append(df)\n",
    "\n",
    "c_pop_df.head()"
   ]
  },
  {
   "cell_type": "code",
   "execution_count": 13,
   "metadata": {
    "collapsed": false,
    "scrolled": true
   },
   "outputs": [
    {
     "data": {
      "text/html": [
       "<div>\n",
       "<table border=\"1\" class=\"dataframe\">\n",
       "  <thead>\n",
       "    <tr style=\"text-align: right;\">\n",
       "      <th></th>\n",
       "      <th>Country</th>\n",
       "      <th>Ethnic Group</th>\n",
       "      <th>Percentage</th>\n",
       "      <th>population</th>\n",
       "      <th>Ethnic Population</th>\n",
       "    </tr>\n",
       "  </thead>\n",
       "  <tbody>\n",
       "    <tr>\n",
       "      <th>0</th>\n",
       "      <td>Albania</td>\n",
       "      <td>Albanian</td>\n",
       "      <td>0.95</td>\n",
       "      <td>2800138</td>\n",
       "      <td>2660131.10</td>\n",
       "    </tr>\n",
       "    <tr>\n",
       "      <th>1</th>\n",
       "      <td>Albania</td>\n",
       "      <td>Greek</td>\n",
       "      <td>0.03</td>\n",
       "      <td>2800138</td>\n",
       "      <td>84004.14</td>\n",
       "    </tr>\n",
       "    <tr>\n",
       "      <th>2</th>\n",
       "      <td>Greece</td>\n",
       "      <td>Greek</td>\n",
       "      <td>0.93</td>\n",
       "      <td>10816286</td>\n",
       "      <td>10059145.98</td>\n",
       "    </tr>\n",
       "    <tr>\n",
       "      <th>3</th>\n",
       "      <td>Macedonia</td>\n",
       "      <td>Macedonian</td>\n",
       "      <td>0.64</td>\n",
       "      <td>2059794</td>\n",
       "      <td>1322387.75</td>\n",
       "    </tr>\n",
       "    <tr>\n",
       "      <th>4</th>\n",
       "      <td>Macedonia</td>\n",
       "      <td>Albanian</td>\n",
       "      <td>0.25</td>\n",
       "      <td>2059794</td>\n",
       "      <td>519068.09</td>\n",
       "    </tr>\n",
       "  </tbody>\n",
       "</table>\n",
       "</div>"
      ],
      "text/plain": [
       "     Country Ethnic Group  Percentage  population  Ethnic Population\n",
       "0    Albania     Albanian        0.95     2800138         2660131.10\n",
       "1    Albania        Greek        0.03     2800138           84004.14\n",
       "2     Greece        Greek        0.93    10816286        10059145.98\n",
       "3  Macedonia   Macedonian        0.64     2059794         1322387.75\n",
       "4  Macedonia     Albanian        0.25     2059794          519068.09"
      ]
     },
     "execution_count": 13,
     "metadata": {},
     "output_type": "execute_result"
    }
   ],
   "source": [
    "# Set pandas so that all floats have 2 decimal places and scientific notation is suppressed\n",
    "pd.set_option('display.float_format', lambda x: '%.2f' % x)\n",
    "\n",
    "# Merge the 2 dataframes from above\n",
    "ethn_pop=ethn_df.merge(c_pop_df, on='Country', how='left')\n",
    "del ethn_pop['year']\n",
    "\n",
    "# Coerce numerical values and convert percentages to decimals\n",
    "ethn_pop.population=pd.to_numeric(ethn_pop.population,errors='coerce')\n",
    "ethn_pop.percentage=pd.to_numeric(ethn_pop.Percentage,errors='coerce')\n",
    "ethn_pop['Percentage'] = ethn_pop['Percentage'].astype('float')/100\n",
    "\n",
    "# Create new column for the ethnic population for each ethnic group in each country\n",
    "ethn_pop['Ethnic Population']=ethn_pop.Percentage*ethn_pop.population\n",
    "ethn_pop.head()"
   ]
  },
  {
   "cell_type": "code",
   "execution_count": 14,
   "metadata": {
    "collapsed": false
   },
   "outputs": [
    {
     "data": {
      "text/html": [
       "<div>\n",
       "<table border=\"1\" class=\"dataframe\">\n",
       "  <thead>\n",
       "    <tr style=\"text-align: right;\">\n",
       "      <th></th>\n",
       "      <th>Ethnic Population</th>\n",
       "    </tr>\n",
       "    <tr>\n",
       "      <th>Ethnic Group</th>\n",
       "      <th></th>\n",
       "    </tr>\n",
       "  </thead>\n",
       "  <tbody>\n",
       "    <tr>\n",
       "      <th>Han Chinese</th>\n",
       "      <td>1245058800.00</td>\n",
       "    </tr>\n",
       "    <tr>\n",
       "      <th>Indo-Aryan</th>\n",
       "      <td>871815583.44</td>\n",
       "    </tr>\n",
       "    <tr>\n",
       "      <th>Dravidian</th>\n",
       "      <td>302713744.25</td>\n",
       "    </tr>\n",
       "    <tr>\n",
       "      <th>Bengali</th>\n",
       "      <td>146776916.72</td>\n",
       "    </tr>\n",
       "    <tr>\n",
       "      <th>Japanese</th>\n",
       "      <td>126534212.00</td>\n",
       "    </tr>\n",
       "    <tr>\n",
       "      <th>Eastern Hamitic</th>\n",
       "      <td>82830376.53</td>\n",
       "    </tr>\n",
       "    <tr>\n",
       "      <th>Viet/Kinh</th>\n",
       "      <td>76078375.30</td>\n",
       "    </tr>\n",
       "    <tr>\n",
       "      <th>Javanese</th>\n",
       "      <td>56769438.36</td>\n",
       "    </tr>\n",
       "    <tr>\n",
       "      <th>English</th>\n",
       "      <td>53592326.74</td>\n",
       "    </tr>\n",
       "    <tr>\n",
       "      <th>Mediterranean Nordic</th>\n",
       "      <td>46815916.00</td>\n",
       "    </tr>\n",
       "  </tbody>\n",
       "</table>\n",
       "</div>"
      ],
      "text/plain": [
       "                      Ethnic Population\n",
       "Ethnic Group                           \n",
       "Han Chinese               1245058800.00\n",
       "Indo-Aryan                 871815583.44\n",
       "Dravidian                  302713744.25\n",
       "Bengali                    146776916.72\n",
       "Japanese                   126534212.00\n",
       "Eastern Hamitic             82830376.53\n",
       "Viet/Kinh                   76078375.30\n",
       "Javanese                    56769438.36\n",
       "English                     53592326.74\n",
       "Mediterranean Nordic        46815916.00"
      ]
     },
     "execution_count": 14,
     "metadata": {},
     "output_type": "execute_result"
    }
   ],
   "source": [
    "# Create a copy of the dataframe above and delete all columns so that all that remains are the ethnic groups and their\n",
    "# ethnic populations\n",
    "ethn_pop2=ethn_pop.copy()\n",
    "ethn_pop2.drop(ethn_pop2.columns[[0,2,3]], axis=1, inplace=True)\n",
    "\n",
    "# Create a pivot table with the ethnic group as the index and sort values by the ethnic population in descending order\n",
    "ethn_pop3=pd.pivot_table(ethn_pop2,index=[\"Ethnic Group\"])\n",
    "ethn_pop3.sort_values(by='Ethnic Population', ascending=False,inplace=True)\n",
    "ethn_pop3.head(10)"
   ]
  },
  {
   "cell_type": "markdown",
   "metadata": {
    "collapsed": false,
    "scrolled": true
   },
   "source": [
    "### 4. Name and country of:\n",
    "#### a.) longest river"
   ]
  },
  {
   "cell_type": "code",
   "execution_count": 15,
   "metadata": {
    "collapsed": false
   },
   "outputs": [
    {
     "name": "stdout",
     "output_type": "stream",
     "text": [
      "Longest river:  Amazonas\n",
      "Length (KM):  6448.0\n",
      "Countries:  CO BR PE\n"
     ]
    }
   ],
   "source": [
    "# Set country name and river name to none and the length to 0 \n",
    "country_=None\n",
    "river_name=None\n",
    "length_=0\n",
    "\n",
    "# Iterate over each element'river' in the document and its length. Create an algorithm so that if the length above\n",
    "# is less than the length of a given river, it will be replaced with the new, longer river, and the \n",
    "# name and country in which the river is located are updated as well.\n",
    "for river in doc.iterfind('river'):\n",
    "    for length in river.iterfind('length'):\n",
    "        if length_<float(length.text):\n",
    "            length_=float(length.text)\n",
    "            river_name=river.find('name').text\n",
    "            country_=river.attrib['country']\n",
    "\n",
    "print('Longest river: ', river_name)\n",
    "print('Length (KM): ', length_)\n",
    "print('Countries: ', country_)"
   ]
  },
  {
   "cell_type": "markdown",
   "metadata": {
    "collapsed": true
   },
   "source": [
    "####  b.) largest lake"
   ]
  },
  {
   "cell_type": "code",
   "execution_count": 16,
   "metadata": {
    "collapsed": false
   },
   "outputs": [
    {
     "name": "stdout",
     "output_type": "stream",
     "text": [
      "Largest lake:  Caspian Sea\n",
      "Area (m^2):  386400.0\n",
      "Countries:  R AZ KAZ IR TM\n"
     ]
    }
   ],
   "source": [
    "country_l=None\n",
    "lake_name=None\n",
    "area_=0\n",
    "\n",
    "for lake in doc.iterfind('lake'):\n",
    "    for area in lake.iterfind('area'):\n",
    "        if area_<float(area.text):\n",
    "            area_=float(area.text)\n",
    "            lake_name=lake.find('name').text\n",
    "            country_l=lake.attrib['country']\n",
    "\n",
    "print('Largest lake: ', lake_name)\n",
    "print('Area (m^2): ', area_)\n",
    "print('Countries: ', country_l)"
   ]
  },
  {
   "cell_type": "markdown",
   "metadata": {},
   "source": [
    "#### c.) airport at highest elevation"
   ]
  },
  {
   "cell_type": "code",
   "execution_count": 17,
   "metadata": {
    "collapsed": false
   },
   "outputs": [
    {
     "name": "stdout",
     "output_type": "stream",
     "text": [
      "Airport at highest elevation:  El Alto Intl\n",
      "Elevation (KM):  4063.0\n",
      "Country:  BOL\n"
     ]
    }
   ],
   "source": [
    "country_a=None\n",
    "ap_name=None\n",
    "elev_=0\n",
    "\n",
    "for airport in doc.iterfind('airport'):\n",
    "    for elevation in airport.iterfind('elevation'):\n",
    "        if (elevation.text is not None) and (elev_<float(elevation.text)):\n",
    "            elev_=float(elevation.text)\n",
    "            ap_name=airport.find('name').text\n",
    "            country_a=airport.attrib['country']\n",
    "\n",
    "print('Airport at highest elevation: ', ap_name)\n",
    "print('Elevation (KM): ', elev_)\n",
    "print('Country: ', country_a)"
   ]
  }
 ],
 "metadata": {
  "anaconda-cloud": {},
  "kernelspec": {
   "display_name": "Python [conda root]",
   "language": "python",
   "name": "conda-root-py"
  },
  "language_info": {
   "codemirror_mode": {
    "name": "ipython",
    "version": 3
   },
   "file_extension": ".py",
   "mimetype": "text/x-python",
   "name": "python",
   "nbconvert_exporter": "python",
   "pygments_lexer": "ipython3",
   "version": "3.5.2"
  }
 },
 "nbformat": 4,
 "nbformat_minor": 0
}
