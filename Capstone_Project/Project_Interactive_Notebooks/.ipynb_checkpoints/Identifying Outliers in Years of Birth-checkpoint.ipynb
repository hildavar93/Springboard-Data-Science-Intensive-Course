{
 "cells": [
  {
   "cell_type": "markdown",
   "metadata": {},
   "source": [
    "### Identifying Outliers in Years of Birth"
   ]
  },
  {
   "cell_type": "code",
   "execution_count": 22,
   "metadata": {
    "collapsed": false,
    "deletable": true,
    "editable": true
   },
   "outputs": [],
   "source": [
    "from csv import reader\n",
    "import csv\n",
    "from collections import Counter, defaultdict\n",
    "import re\n",
    "import glob\n",
    "\n",
    "\n",
    "path=\"/Users/hildavargas/Desktop/Springboard_Mini_Projects/Capstone_Project/CitiBike_Data/\"\n",
    "\n",
    "final_age_count_all=[]\n",
    "\n",
    "for file in glob.glob(path+\"*.csv\"):\n",
    "    \n",
    "    csv_x=reader(open(file, \"r\"), delimiter=\",\")\n",
    "    num=re.findall(r'\\b\\d+\\b', file)\n",
    "\n",
    "    ages_trips=[]\n",
    "\n",
    "    next(csv_x)\n",
    "    \n",
    "    for row in csv_x:\n",
    "        ages_trips.append((row[13], num[0], num[1]))\n",
    "\n",
    "    counter=Counter(ages_trips)\n",
    "    \n",
    "    x=counter.items()\n",
    "    \n",
    "    final_age_count=[(a, b, c, d) for ((a, b, c), d) in x]\n",
    "    \n",
    "    final_age_count_all.append(final_age_count)\n",
    "\n",
    "    with open(\"/Users/hildavargas/Desktop/Springboard_Mini_Projects/Capstone_Project/CB_real_metrics/Ages.csv\", \"w\") as out: \n",
    "        csv_o=csv.writer(out, delimiter=',')\n",
    "    \n",
    "        fieldnames=['Birth Year','Year', 'Month', 'Number of Trips']\n",
    "        \n",
    "        csv_o.writerow(fieldnames)\n",
    "    \n",
    "        for row in final_age_count_all:\n",
    "            csv_o.writerows(row)    \n",
    "    \n",
    "    "
   ]
  },
  {
   "cell_type": "code",
   "execution_count": 1,
   "metadata": {
    "collapsed": false,
    "deletable": true,
    "editable": true
   },
   "outputs": [
    {
     "data": {
      "text/html": [
       "<div>\n",
       "<table border=\"1\" class=\"dataframe\">\n",
       "  <thead>\n",
       "    <tr style=\"text-align: right;\">\n",
       "      <th></th>\n",
       "      <th>Birth Year</th>\n",
       "      <th>Year</th>\n",
       "      <th>Month</th>\n",
       "      <th>Number of Trips</th>\n",
       "    </tr>\n",
       "  </thead>\n",
       "  <tbody>\n",
       "    <tr>\n",
       "      <th>0</th>\n",
       "      <td>1926.0</td>\n",
       "      <td>2013</td>\n",
       "      <td>7</td>\n",
       "      <td>40</td>\n",
       "    </tr>\n",
       "    <tr>\n",
       "      <th>1</th>\n",
       "      <td>1987.0</td>\n",
       "      <td>2013</td>\n",
       "      <td>7</td>\n",
       "      <td>24003</td>\n",
       "    </tr>\n",
       "    <tr>\n",
       "      <th>2</th>\n",
       "      <td>1991.0</td>\n",
       "      <td>2013</td>\n",
       "      <td>7</td>\n",
       "      <td>5803</td>\n",
       "    </tr>\n",
       "    <tr>\n",
       "      <th>3</th>\n",
       "      <td>1952.0</td>\n",
       "      <td>2013</td>\n",
       "      <td>7</td>\n",
       "      <td>3267</td>\n",
       "    </tr>\n",
       "    <tr>\n",
       "      <th>4</th>\n",
       "      <td>1983.0</td>\n",
       "      <td>2013</td>\n",
       "      <td>7</td>\n",
       "      <td>31412</td>\n",
       "    </tr>\n",
       "  </tbody>\n",
       "</table>\n",
       "</div>"
      ],
      "text/plain": [
       "   Birth Year  Year  Month  Number of Trips\n",
       "0      1926.0  2013      7               40\n",
       "1      1987.0  2013      7            24003\n",
       "2      1991.0  2013      7             5803\n",
       "3      1952.0  2013      7             3267\n",
       "4      1983.0  2013      7            31412"
      ]
     },
     "execution_count": 1,
     "metadata": {},
     "output_type": "execute_result"
    }
   ],
   "source": [
    "import pandas as pd\n",
    "agesdf=pd.read_csv(\"/Users/hildavargas/Desktop/Springboard_Mini_Projects/Capstone_Project/CB_real_metrics/Ages.csv\", na_values=[r'\\N'])\n",
    "agesdf=agesdf.dropna()\n",
    "agesdf.head()"
   ]
  },
  {
   "cell_type": "code",
   "execution_count": 2,
   "metadata": {
    "collapsed": false,
    "deletable": true,
    "editable": true
   },
   "outputs": [
    {
     "data": {
      "image/png": "[encoded data removed]",
      "text/plain": [
       "<matplotlib.figure.Figure at 0x10da5d828>"
      ]
     },
     "metadata": {},
     "output_type": "display_data"
    }
   ],
   "source": [
    "import matplotlib.pyplot as plt\n",
    "plt.bar(agesdf['Birth Year'], agesdf['Number of Trips'])\n",
    "plt.title('Number of Trips vs. Birth Year')\n",
    "plt.xlabel('Year of Birth')\n",
    "plt.ylabel('Number of Trips')\n",
    "plt.show()"
   ]
  },
  {
   "cell_type": "markdown",
   "metadata": {
    "deletable": true,
    "editable": true
   },
   "source": [
    "According to my histogram, the outliers in my data are years of birth below ~1940. However, I would identify birth years of below 1920 as extreme outliers. Thus, I will keep birth years of 1920 and later.\n",
    "\n",
    "The outliers are most likely due to people who did not want to share their true years of birth for privacy concerns (those who provided years of birth in the 1800's, for example). Other outliers are probably due to people who are older than the average people who use Citi Bike. "
   ]
  }
 ],
 "metadata": {
  "anaconda-cloud": {},
  "kernelspec": {
   "display_name": "Python [conda root]",
   "language": "python",
   "name": "conda-root-py"
  },
  "language_info": {
   "codemirror_mode": {
    "name": "ipython",
    "version": 3
   },
   "file_extension": ".py",
   "mimetype": "text/x-python",
   "name": "python",
   "nbconvert_exporter": "python",
   "pygments_lexer": "ipython3",
   "version": "3.5.2"
  }
 },
 "nbformat": 4,
 "nbformat_minor": 1
}
