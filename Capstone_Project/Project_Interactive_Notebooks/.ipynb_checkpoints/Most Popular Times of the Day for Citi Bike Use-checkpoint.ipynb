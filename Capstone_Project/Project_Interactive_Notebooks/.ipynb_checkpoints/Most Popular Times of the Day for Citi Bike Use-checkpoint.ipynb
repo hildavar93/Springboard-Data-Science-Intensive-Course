{
 "cells": [
  {
   "cell_type": "markdown",
   "metadata": {
    "deletable": true,
    "editable": true
   },
   "source": [
    "### Most Popular Times of the Day for Citi Bike Use"
   ]
  },
  {
   "cell_type": "markdown",
   "metadata": {
    "deletable": true,
    "editable": true
   },
   "source": [
    "#### Create one CSV with a count for each of the hours in which Citi Bike was used for each of the 40+ Citi Bike data files"
   ]
  },
  {
   "cell_type": "code",
   "execution_count": 295,
   "metadata": {
    "collapsed": false,
    "deletable": true,
    "editable": true
   },
   "outputs": [],
   "source": [
    "import csv\n",
    "from csv import reader\n",
    "from csv import writer\n",
    "import re\n",
    "from dateutil import parser\n",
    "from collections import Counter\n",
    "import glob\n",
    "\n",
    "path=\"/Users/hildavargas/Desktop/Springboard_Mini_Projects/Capstone_Project/CitiBike_Data/\"\n",
    "\n",
    "most_common_times_all=[]\n",
    "\n",
    "for file in glob.glob(path+\"*.csv\"):\n",
    "    \n",
    "    csv_=reader(open(file, \"r\"), delimiter=\",\")\n",
    "   \n",
    "    num=re.findall(r'\\b\\d+\\b', file)\n",
    "    \n",
    "    poptimes=[]    \n",
    "    \n",
    "    next(csv_)\n",
    "\n",
    "    for row in csv_:\n",
    "        poptimes.append([row[1], row[14], row[13], num[0], num[1]])\n",
    "        \n",
    "    for line in poptimes:\n",
    "        line[0]=line[0].split()[1]\n",
    "        line[0]=parser.parse(line[0]).hour\n",
    "        \n",
    "    tupletimes=[tuple(l) for l in poptimes]\n",
    "\n",
    "    count=Counter(tupletimes)\n",
    "\n",
    "    most_common_times=[(a,b,c,d,e,f) for ((a, b, c, d, e),f) in count.items()]\n",
    "    \n",
    "    most_common_times_all.append(most_common_times)\n",
    "    \n",
    "    with open(\"/Users/hildavargas/Desktop/Springboard_Mini_Projects/Capstone_Project/CB_real_metrics/MostPopularTimes.csv\", \"w\") as out:\n",
    "        csv_o=csv.writer(out, delimiter=',')\n",
    "        \n",
    "        fieldnames=['Hour of the Day', 'Gender', 'Birth Year', 'Year', 'Month', 'Number of Trips']\n",
    "        \n",
    "        csv_o.writerow(fieldnames)\n",
    "    \n",
    "        for row in most_common_times_all:\n",
    "            csv_o.writerows(row)"
   ]
  },
  {
   "cell_type": "markdown",
   "metadata": {
    "deletable": true,
    "editable": true
   },
   "source": [
    "#### Data Cleaning: Drop unprovided birth years and extreme outliers ( <1920)"
   ]
  },
  {
   "cell_type": "code",
   "execution_count": null,
   "metadata": {
    "collapsed": false,
    "deletable": true,
    "editable": true
   },
   "outputs": [],
   "source": [
    "import pandas as pd\n",
    "import numpy as np\n",
    "\n",
    "timesdf=pd.read_csv(\"/Users/hildavargas/Desktop/Springboard_Mini_Projects/Capstone_Project/CB_real_metrics/MostPopularTimes.csv\", na_values=[r'\\N'], dtype={\"Hour of the Day\": int, \"Gender\": int, \"Year\": int, \"Month\": int, \"Number of Trips\":int})\n",
    "\n",
    "timesdf\n",
    "\n",
    "# Replace Gender w/ 'Unknown, Male, Female' vs. '0, 1, 2'\n",
    "timesdf.Gender=timesdf.Gender.replace(0, 'Unknown')\n",
    "timesdf.Gender=timesdf.Gender.replace(1, 'Male')\n",
    "timesdf.Gender=timesdf.Gender.replace(2, 'Female')\n",
    "\n",
    "# Replace birth years < 1920 with nulls (see notebook \"Identifying Outliers in Age Range\" for reference)\n",
    "timesdf.ix[timesdf['Birth Year'] < 1920, 'Birth Year'] = np.nan\n",
    "\n",
    "# Drop rows with nulls (missing birth years and those < 1920)\n",
    "timesdf=timesdf.dropna()\n",
    "timesdf.head()"
   ]
  },
  {
   "cell_type": "markdown",
   "metadata": {
    "collapsed": true,
    "deletable": true,
    "editable": true
   },
   "source": [
    "#### Data Wrangling: Change birth years to age ranges so plot is less cluttered"
   ]
  },
  {
   "cell_type": "code",
   "execution_count": null,
   "metadata": {
    "collapsed": false,
    "deletable": true,
    "editable": true
   },
   "outputs": [],
   "source": [
    "# Create bins for age ranges based off the birth year values\n",
    "bins=[]\n",
    "for number in range(1915, 2015, 5):\n",
    "   bins.append(number)\n",
    "\n",
    "# Add age ranges column to dataframe\n",
    "timesdf['Age Ranges']=pd.cut(timesdf['Birth Year'], precision=0, bins=bins)\n",
    "timesdf.sort_values('Age Ranges')\n",
    "timesdf.head()"
   ]
  },
  {
   "cell_type": "code",
   "execution_count": null,
   "metadata": {
    "collapsed": false,
    "deletable": true,
    "editable": true
   },
   "outputs": [],
   "source": [
    "# Checking for nulls in age range column\n",
    "x=timesdf['Age Ranges'].isnull()\n",
    "np.sum(x)"
   ]
  },
  {
   "cell_type": "code",
   "execution_count": null,
   "metadata": {
    "collapsed": false,
    "deletable": true,
    "editable": true
   },
   "outputs": [],
   "source": [
    "# Change age ranges to intervals that will be easier to understand in a plot\n",
    "unique_ranges=timesdf['Age Ranges'].unique()\n",
    "from collections import defaultdict\n",
    "x=defaultdict(str)\n",
    "\n",
    "for line in unique_ranges:\n",
    "    if int(line[4]) % 2 ==0:\n",
    "        z=line[1:4]+'1'\n",
    "    else:\n",
    "        z=line[1:4]+'6'\n",
    "    \n",
    "    d=line[7:11]\n",
    "    result=z+'-'+d\n",
    "    x[line]=result\n",
    "\n",
    "\n",
    "timesdf['Age Range']=timesdf['Age Ranges'].map(x)\n",
    "timesdf.head()"
   ]
  },
  {
   "cell_type": "code",
   "execution_count": null,
   "metadata": {
    "collapsed": false,
    "deletable": true,
    "editable": true
   },
   "outputs": [],
   "source": [
    "# Change hours of the day to time intervals that will be easier to understand in a plot\n",
    "\n",
    "unique_times=timesdf['Hour of the Day'].unique()\n",
    "\n",
    "dict={}\n",
    "for i in unique_times:\n",
    "    if i<11:\n",
    "        dict[i]=str(i) + \" \" + \"AM\" + \" \"+ \"-\" + \" \"+str(i+1)+\" \"+\"AM\"\n",
    "    if i>11:\n",
    "        dict[i]=str(i-12) + \" \" + \"PM\" + \" \"+ \"-\" + \" \"+str(i-11)+\" \"+\"PM\"\n",
    "\n",
    "dict[0]='12 AM - 1 AM'\n",
    "dict[11]='11 AM - 12 PM'\n",
    "dict[12]='12 PM - 1 PM'\n",
    "dict[23]='11 PM - 12 AM'\n",
    "\n",
    "timesdf['Time Range']=timesdf['Hour of the Day'].map(dict)\n",
    "timesdf.head()\n",
    "\n",
    "dict.values()"
   ]
  },
  {
   "cell_type": "markdown",
   "metadata": {
    "deletable": true,
    "editable": true
   },
   "source": [
    "#### Create an interactive point plot with ipywidget and Seaborn to compare the most popular times of the day for Citi Bike use (ungrouped)"
   ]
  },
  {
   "cell_type": "code",
   "execution_count": null,
   "metadata": {
    "collapsed": false,
    "deletable": true,
    "editable": true
   },
   "outputs": [],
   "source": [
    "df2=timesdf.copy()\n",
    "df2=df2.drop(['Gender', 'Birth Year', 'Age Ranges', 'Age Range'], 1)\n",
    "df2=df2.groupby(['Month', 'Year', 'Time Range', 'Hour of the Day']).sum().reset_index()\n",
    "df2.head()"
   ]
  },
  {
   "cell_type": "code",
   "execution_count": null,
   "metadata": {
    "collapsed": false,
    "deletable": true,
    "editable": true
   },
   "outputs": [],
   "source": [
    "from ipywidgets import interact, Layout\n",
    "from ipywidgets.widgets import SelectMultiple\n",
    "import seaborn as sns\n",
    "import matplotlib.pyplot as plt\n",
    "import matplotlib\n",
    "%matplotlib inline\n",
    "import textwrap\n",
    "\n",
    "# Create dictionary for new column in dataframe with the actual month name\n",
    "months_name={}\n",
    "months_name[1]='January'\n",
    "months_name[2]=\"February\"\n",
    "months_name[3]= \"March\"\n",
    "months_name[4]=\"April\"\n",
    "months_name[5]=\"May\"\n",
    "months_name[6]=\"June\"\n",
    "months_name[7]=\"July\"\n",
    "months_name[8]=\"August\"\n",
    "months_name[9]=\"September\"\n",
    "months_name[10]=\"October\"\n",
    "months_name[11]=\"November\"\n",
    "months_name[12]=\"December\"\n",
    "\n",
    "df=timesdf.copy()\n",
    "df['Month Name']=df[\"Month\"].map(months_name)\n",
    "\n",
    "# Create lists of unique values for months and years for widget\n",
    "months=['January', 'February', 'March', 'April', 'May', 'June', 'July', 'August', 'September', 'October', 'November', 'December']\n",
    "years=sorted(df['Year'].unique().tolist())\n",
    "\n",
    "# Define function for interactive widget\n",
    "def make_plot(Months, Years):\n",
    "    x=list(Months)\n",
    "    z=list(Years)\n",
    "    \n",
    "    try:\n",
    "        sns.set_style(\"whitegrid\")\n",
    "        plt.rcParams['figure.figsize']=(8,8)\n",
    "        gooddata=df.loc[(df['Month Name'].isin(x)) & df['Year'].isin(z)].sort_values(by='Hour of the Day')\n",
    "        plot=sns.pointplot('Time Range', 'Number of Trips', data=gooddata, ci=None, estimator=sum, color=\"#af2b30\")\n",
    "        title=plt.title(\"Number of Trips by Time of the Day, Ungrouped\", fontsize=16, fontweight=\"bold\")\n",
    "        title.set_position([.5, 1.05])\n",
    "        plt.xlabel('Time')\n",
    "        plt.ylabel('Number of Trips')\n",
    "        for item in plot.get_xticklabels():\n",
    "                item.set_rotation('vertical')\n",
    "        for tick in plot.xaxis.get_major_ticks():\n",
    "                tick.label.set_fontsize(11)\n",
    "        for tick in plot.yaxis.get_major_ticks():\n",
    "                tick.label.set_fontsize(12)\n",
    "        plot.yaxis.label.set_size(14)\n",
    "        plot.xaxis.label.set_size(14)\n",
    "        plot.xaxis.labelpad = 20\n",
    "        plot.yaxis.labelpad = 20\n",
    "        plot.get_yaxis().set_major_formatter(matplotlib.ticker.FuncFormatter(lambda x, p: format(int(x), ',')))\n",
    "        plt.show()\n",
    "\n",
    "    except ValueError:\n",
    "            text=\"This dataset spans from July 2013 (Citi Bike's opening to the public) to December 2016. Please make another selection and try again.\" \n",
    "            print(textwrap.fill(text, 100))\n",
    "\n",
    "interact(make_plot, Months=SelectMultiple(options=months, value=['July']), Years=SelectMultiple(options=years, value=[2013]))\n"
   ]
  },
  {
   "cell_type": "markdown",
   "metadata": {
    "collapsed": true,
    "deletable": true,
    "editable": true
   },
   "source": [
    "#### Create an interactive bar plot with ipywidget and Seaborn to compare the most popular times of the day for Citi Bike use based off gender"
   ]
  },
  {
   "cell_type": "code",
   "execution_count": null,
   "metadata": {
    "collapsed": false,
    "deletable": true,
    "editable": true
   },
   "outputs": [],
   "source": [
    "from ipywidgets import interact, Layout\n",
    "from ipywidgets.widgets import SelectMultiple\n",
    "import seaborn as sns\n",
    "import matplotlib.pyplot as plt\n",
    "import matplotlib\n",
    "%matplotlib inline\n",
    "import textwrap\n",
    "\n",
    "# Create dictionary for new column in dataframe with the actual month name\n",
    "months_name={}\n",
    "months_name[1]='January'\n",
    "months_name[2]=\"February\"\n",
    "months_name[3]= \"March\"\n",
    "months_name[4]=\"April\"\n",
    "months_name[5]=\"May\"\n",
    "months_name[6]=\"June\"\n",
    "months_name[7]=\"July\"\n",
    "months_name[8]=\"August\"\n",
    "months_name[9]=\"September\"\n",
    "months_name[10]=\"October\"\n",
    "months_name[11]=\"November\"\n",
    "months_name[12]=\"December\"\n",
    "\n",
    "df=timesdf.copy()\n",
    "df['Month Name']=df[\"Month\"].map(months_name)\n",
    "\n",
    "# Create lists of unique values for months and years for widget\n",
    "months=['January', 'February', 'March', 'April', 'May', 'June', 'July', 'August', 'September', 'October', 'November', 'December']\n",
    "years=sorted(df['Year'].unique().tolist())\n",
    "\n",
    "# Define function for interactive widget\n",
    "def make_plot2(Months, Years):\n",
    "    x=list(Months)\n",
    "    z=list(Years)\n",
    "    \n",
    "    try:\n",
    "        sns.set_style(\"whitegrid\")\n",
    "        plt.rcParams['figure.figsize']=(10,8)\n",
    "        gooddata=df.loc[(df['Month Name'].isin(x)) & df['Year'].isin(z)].sort_values(by='Hour of the Day')\n",
    "        pal={'Female': \"#9452b2\", 'Male': \"#c6614e\", 'Unknown':\"#98bf5b\"}\n",
    "        plot=sns.barplot('Time Range', 'Number of Trips', hue='Gender', estimator=sum, data=gooddata, ci=None, palette=pal)\n",
    "        title=plt.title(\"Number of Trips by Time of the Day, Grouped by Gender\", fontsize=16, fontweight=\"bold\")\n",
    "        title.set_position([.5, 1.05])\n",
    "        plt.xlabel('Time')\n",
    "        plt.ylabel('Number of Trips')\n",
    "        plt.legend(loc=1)\n",
    "        for item in plot.get_xticklabels():\n",
    "                item.set_rotation('vertical')\n",
    "        for tick in plot.xaxis.get_major_ticks():\n",
    "                tick.label.set_fontsize(11)\n",
    "        for tick in plot.yaxis.get_major_ticks():\n",
    "                tick.label.set_fontsize(12)\n",
    "        plot.yaxis.label.set_size(14)\n",
    "        plot.xaxis.label.set_size(14)\n",
    "        plot.xaxis.labelpad = 20\n",
    "        plot.yaxis.labelpad = 20\n",
    "        plot.get_yaxis().set_major_formatter(matplotlib.ticker.FuncFormatter(lambda x, p: format(int(x), ',')))\n",
    "        plt.show()\n",
    "\n",
    "    except ValueError:\n",
    "            text=\"This dataset spans from July 2013 (Citi Bike's opening to the public) to December 2016. Please make another selection and try again.\" \n",
    "            print(textwrap.fill(text, 100))\n",
    "\n",
    "interact(make_plot2, Months=SelectMultiple(options=months, value=['July']), Years=SelectMultiple(options=years, value=[2013]))\n"
   ]
  }
 ],
 "metadata": {
  "anaconda-cloud": {},
  "kernelspec": {
   "display_name": "Python [default]",
   "language": "python",
   "name": "python3"
  },
  "language_info": {
   "codemirror_mode": {
    "name": "ipython",
    "version": 3
   },
   "file_extension": ".py",
   "mimetype": "text/x-python",
   "name": "python",
   "nbconvert_exporter": "python",
   "pygments_lexer": "ipython3",
   "version": "3.5.2"
  }
 },
 "nbformat": 4,
 "nbformat_minor": 1
}
