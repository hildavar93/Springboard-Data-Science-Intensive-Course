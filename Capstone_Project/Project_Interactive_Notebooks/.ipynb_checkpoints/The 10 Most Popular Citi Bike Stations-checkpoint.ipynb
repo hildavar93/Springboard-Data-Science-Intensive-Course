{
 "cells": [
  {
   "cell_type": "markdown",
   "metadata": {
    "deletable": true,
    "editable": true
   },
   "source": [
    "### The 10 Most Popular Citi Bike Stations"
   ]
  },
  {
   "cell_type": "code",
   "execution_count": 17,
   "metadata": {
    "collapsed": false,
    "deletable": true,
    "editable": true
   },
   "outputs": [],
   "source": [
    "# Create CSV with 10 most popular stations in each data file\n",
    "import csv\n",
    "from csv import reader\n",
    "from csv import writer\n",
    "from collections import Counter\n",
    "import glob\n",
    "import collections\n",
    "import re\n",
    "\n",
    "path=\"/Users/hildavargas/Desktop/Springboard_Mini_Projects/Capstone_Project/CitiBike_Data/\"\n",
    "\n",
    "most_common_all=[]\n",
    "\n",
    "for file in glob.glob(path+\"*.csv\"):\n",
    "    \n",
    "    path_i=file\n",
    "    \n",
    "    csv_r=reader(open(path_i, \"r\"), delimiter=\",\")\n",
    "    \n",
    "    num=re.findall(r'\\b\\d+\\b', file)\n",
    "    \n",
    "    stations=[]\n",
    "    \n",
    "    for row in csv_r:\n",
    "        stations.append((row[3], row[4], row[5], row[6], num[0], num[1]))\n",
    "    \n",
    "    counter=collections.Counter(stations)\n",
    "    \n",
    "    most_common_nested=counter.most_common(10)\n",
    "    \n",
    "    most_common=[(a,b,c,d,e,f, g) for ((a, b, c, d, e, f),g) in most_common_nested]\n",
    "    \n",
    "    most_common_all.append(most_common)\n",
    "\n",
    "    with open(\"/Users/hildavargas/Desktop/Springboard_Mini_Projects/Capstone_Project/CB_real_metrics/10MostPopularStations.csv\", \"w\") as out:\n",
    "        csv_o=csv.writer(out, delimiter=',')\n",
    "        \n",
    "        fieldnames=['start station id','start station name', 'start station latitude', 'start station longitude', 'year', 'month', 'number of rides']\n",
    "        \n",
    "        csv_o.writerow(fieldnames)\n",
    "    \n",
    "        for row in most_common_all:\n",
    "            csv_o.writerows(row)"
   ]
  },
  {
   "cell_type": "code",
   "execution_count": 1,
   "metadata": {
    "collapsed": false,
    "deletable": true,
    "editable": true
   },
   "outputs": [
    {
     "data": {
      "text/html": [
       "<div>\n",
       "<table border=\"1\" class=\"dataframe\">\n",
       "  <thead>\n",
       "    <tr style=\"text-align: right;\">\n",
       "      <th></th>\n",
       "      <th>start station id</th>\n",
       "      <th>start station name</th>\n",
       "      <th>start station latitude</th>\n",
       "      <th>start station longitude</th>\n",
       "      <th>year</th>\n",
       "      <th>month</th>\n",
       "      <th>number of rides</th>\n",
       "    </tr>\n",
       "  </thead>\n",
       "  <tbody>\n",
       "    <tr>\n",
       "      <th>0</th>\n",
       "      <td>459</td>\n",
       "      <td>W 20 St &amp; 11 Ave</td>\n",
       "      <td>40.746745</td>\n",
       "      <td>-74.007756</td>\n",
       "      <td>2013</td>\n",
       "      <td>7</td>\n",
       "      <td>8049</td>\n",
       "    </tr>\n",
       "    <tr>\n",
       "      <th>1</th>\n",
       "      <td>497</td>\n",
       "      <td>E 17 St &amp; Broadway</td>\n",
       "      <td>40.737050</td>\n",
       "      <td>-73.990093</td>\n",
       "      <td>2013</td>\n",
       "      <td>7</td>\n",
       "      <td>7814</td>\n",
       "    </tr>\n",
       "    <tr>\n",
       "      <th>2</th>\n",
       "      <td>426</td>\n",
       "      <td>West St &amp; Chambers St</td>\n",
       "      <td>40.717548</td>\n",
       "      <td>-74.013221</td>\n",
       "      <td>2013</td>\n",
       "      <td>7</td>\n",
       "      <td>7387</td>\n",
       "    </tr>\n",
       "    <tr>\n",
       "      <th>3</th>\n",
       "      <td>519</td>\n",
       "      <td>Pershing Square N</td>\n",
       "      <td>40.751884</td>\n",
       "      <td>-73.977702</td>\n",
       "      <td>2013</td>\n",
       "      <td>7</td>\n",
       "      <td>7290</td>\n",
       "    </tr>\n",
       "    <tr>\n",
       "      <th>4</th>\n",
       "      <td>285</td>\n",
       "      <td>Broadway &amp; E 14 St</td>\n",
       "      <td>40.734546</td>\n",
       "      <td>-73.990741</td>\n",
       "      <td>2013</td>\n",
       "      <td>7</td>\n",
       "      <td>7167</td>\n",
       "    </tr>\n",
       "  </tbody>\n",
       "</table>\n",
       "</div>"
      ],
      "text/plain": [
       "   start station id     start station name  start station latitude  \\\n",
       "0               459       W 20 St & 11 Ave               40.746745   \n",
       "1               497     E 17 St & Broadway               40.737050   \n",
       "2               426  West St & Chambers St               40.717548   \n",
       "3               519      Pershing Square N               40.751884   \n",
       "4               285     Broadway & E 14 St               40.734546   \n",
       "\n",
       "   start station longitude  year  month  number of rides  \n",
       "0               -74.007756  2013      7             8049  \n",
       "1               -73.990093  2013      7             7814  \n",
       "2               -74.013221  2013      7             7387  \n",
       "3               -73.977702  2013      7             7290  \n",
       "4               -73.990741  2013      7             7167  "
      ]
     },
     "execution_count": 1,
     "metadata": {},
     "output_type": "execute_result"
    }
   ],
   "source": [
    "# Create dataframe from copy of CSV created above that has been upload\n",
    "\n",
    "import pandas as pd\n",
    "from boto.s3.connection import S3Connection\n",
    "from io import BytesIO\n",
    "\n",
    "conn = S3Connection('', '', anon=True)\n",
    "bucket = conn.get_bucket('hildavarcapstone')\n",
    "key= bucket.get_key('10MostPopularStations.csv')\n",
    "blob=BytesIO(key.get_contents_as_string())\n",
    "mostcommondf=pd.read_csv(blob)\n",
    "mostcommondf.head()\n",
    "\n",
    "mostcommondf[['start station id']] = mostcommondf[['start station id']].apply(pd.to_numeric)\n",
    "mostcommondf[['year']] = mostcommondf[['year']].apply(pd.to_numeric)\n",
    "mostcommondf[['month']] = mostcommondf[['month']].apply(pd.to_numeric)\n",
    "mostcommondf[['number of rides']] = mostcommondf[['number of rides']].apply(pd.to_numeric)\n",
    "mostcommondf.head()"
   ]
  },
  {
   "cell_type": "markdown",
   "metadata": {
    "deletable": true,
    "editable": true
   },
   "source": [
    "#### Data Cleaning: Handling duplicate stations\n",
    "\n",
    "There are some stations that are the same, but are identified as unique because their coordinates slightly changed \n",
    "over time. If I keep them as they are, two markers will show for one station. Create a new dataframe for each \n",
    "unique station (identified by its start station id), and keep only its most recent coordinates and name. Convert this \n",
    "dataframe to dictionaries for each column and replace the current values in the original dataframe."
   ]
  },
  {
   "cell_type": "code",
   "execution_count": 2,
   "metadata": {
    "collapsed": false,
    "deletable": true,
    "editable": true
   },
   "outputs": [
    {
     "data": {
      "text/html": [
       "<div>\n",
       "<table border=\"1\" class=\"dataframe\">\n",
       "  <thead>\n",
       "    <tr style=\"text-align: right;\">\n",
       "      <th></th>\n",
       "      <th>start station id</th>\n",
       "      <th>start station name</th>\n",
       "      <th>start station latitude</th>\n",
       "      <th>start station longitude</th>\n",
       "      <th>year</th>\n",
       "      <th>month</th>\n",
       "      <th>number of rides</th>\n",
       "    </tr>\n",
       "  </thead>\n",
       "  <tbody>\n",
       "    <tr>\n",
       "      <th>0</th>\n",
       "      <td>459</td>\n",
       "      <td>W 20 St &amp; 11 Ave</td>\n",
       "      <td>40.746745</td>\n",
       "      <td>-74.007756</td>\n",
       "      <td>2013</td>\n",
       "      <td>7</td>\n",
       "      <td>8049</td>\n",
       "    </tr>\n",
       "    <tr>\n",
       "      <th>1</th>\n",
       "      <td>497</td>\n",
       "      <td>E 17 St &amp; Broadway</td>\n",
       "      <td>40.737050</td>\n",
       "      <td>-73.990093</td>\n",
       "      <td>2013</td>\n",
       "      <td>7</td>\n",
       "      <td>7814</td>\n",
       "    </tr>\n",
       "    <tr>\n",
       "      <th>2</th>\n",
       "      <td>426</td>\n",
       "      <td>West St &amp; Chambers St</td>\n",
       "      <td>40.717548</td>\n",
       "      <td>-74.013221</td>\n",
       "      <td>2013</td>\n",
       "      <td>7</td>\n",
       "      <td>7387</td>\n",
       "    </tr>\n",
       "    <tr>\n",
       "      <th>3</th>\n",
       "      <td>519</td>\n",
       "      <td>Pershing Square North</td>\n",
       "      <td>40.751873</td>\n",
       "      <td>-73.977706</td>\n",
       "      <td>2013</td>\n",
       "      <td>7</td>\n",
       "      <td>7290</td>\n",
       "    </tr>\n",
       "    <tr>\n",
       "      <th>4</th>\n",
       "      <td>285</td>\n",
       "      <td>Broadway &amp; E 14 St</td>\n",
       "      <td>40.734546</td>\n",
       "      <td>-73.990741</td>\n",
       "      <td>2013</td>\n",
       "      <td>7</td>\n",
       "      <td>7167</td>\n",
       "    </tr>\n",
       "  </tbody>\n",
       "</table>\n",
       "</div>"
      ],
      "text/plain": [
       "   start station id     start station name  start station latitude  \\\n",
       "0               459       W 20 St & 11 Ave               40.746745   \n",
       "1               497     E 17 St & Broadway               40.737050   \n",
       "2               426  West St & Chambers St               40.717548   \n",
       "3               519  Pershing Square North               40.751873   \n",
       "4               285     Broadway & E 14 St               40.734546   \n",
       "\n",
       "   start station longitude  year  month  number of rides  \n",
       "0               -74.007756  2013      7             8049  \n",
       "1               -73.990093  2013      7             7814  \n",
       "2               -74.013221  2013      7             7387  \n",
       "3               -73.977706  2013      7             7290  \n",
       "4               -73.990741  2013      7             7167  "
      ]
     },
     "execution_count": 2,
     "metadata": {},
     "output_type": "execute_result"
    }
   ],
   "source": [
    "from collections import defaultdict\n",
    "\n",
    "coord_df=mostcommondf.copy()\n",
    "coord_df=coord_df.drop(coord_df.columns[[6]], axis=1)\n",
    "coord_df=coord_df.sort_values(['start station id', 'year'])\n",
    "coord_df[['start station id']] = coord_df[['start station id']].apply(pd.to_numeric)\n",
    "coord_df=coord_df.drop_duplicates('start station id', keep='last')\n",
    "\n",
    "# Replace start station name\n",
    "\n",
    "name_dict={}\n",
    "for row in coord_df.itertuples():\n",
    "    name_dict[row[1]]=row[2]\n",
    "mostcommondf['start station name']=mostcommondf['start station id'].map(name_dict)\n",
    "\n",
    "# Replace start station latitude\n",
    "\n",
    "lat_dict={}\n",
    "for row in coord_df.itertuples():\n",
    "    lat_dict[row[1]]=row[3]\n",
    "mostcommondf['start station latitude']=mostcommondf['start station id'].map(lat_dict)\n",
    "\n",
    "# Replace start station longitude\n",
    "\n",
    "long_dict={}\n",
    "for row in coord_df.itertuples():\n",
    "    long_dict[row[1]]=row[4]\n",
    "mostcommondf['start station longitude']=mostcommondf['start station id'].map(long_dict)\n",
    "\n",
    "mostcommondf.head()"
   ]
  },
  {
   "cell_type": "markdown",
   "metadata": {
    "deletable": true,
    "editable": true
   },
   "source": [
    "#### Create an interactive map for the 10 most popular start stations with Folium"
   ]
  },
  {
   "cell_type": "code",
   "execution_count": 6,
   "metadata": {
    "collapsed": false,
    "deletable": true,
    "editable": true
   },
   "outputs": [
    {
     "data": {
      "application/vnd.jupyter.widget-view+json": {
       "model_id": "907efa34b2014c52895551c76f26ed9c"
      }
     },
     "metadata": {},
     "output_type": "display_data"
    },
    {
     "data": {
      "text/plain": [
       "<function __main__.make_map>"
      ]
     },
     "execution_count": 6,
     "metadata": {},
     "output_type": "execute_result"
    }
   ],
   "source": [
    "from ipywidgets import interact, Layout\n",
    "from ipywidgets.widgets import SelectMultiple\n",
    "import folium\n",
    "from IPython import display\n",
    "\n",
    "# Create dictionary for new column in dataframe with the actual month name\n",
    "months_name={}\n",
    "months_name[1]='January'\n",
    "months_name[2]=\"February\"\n",
    "months_name[3]= \"March\"\n",
    "months_name[4]=\"April\"\n",
    "months_name[5]=\"May\"\n",
    "months_name[6]=\"June\"\n",
    "months_name[7]=\"July\"\n",
    "months_name[8]=\"August\"\n",
    "months_name[9]=\"September\"\n",
    "months_name[10]=\"October\"\n",
    "months_name[11]=\"November\"\n",
    "months_name[12]=\"December\"\n",
    "\n",
    "df=mostcommondf.copy()\n",
    "df['Month Name']=df[\"month\"].map(months_name)\n",
    "\n",
    "# Create lists of unique values for months and years for widget\n",
    "months=['January', 'February', 'March', 'April', 'May', 'June', 'July', 'August', 'September', 'October', 'November', 'December']\n",
    "years=sorted(df['year'].unique().tolist())\n",
    "\n",
    "# Define function for interactive widget\n",
    "def make_map(Months, Years):\n",
    "    x=list(Months)\n",
    "    z=list(Years)\n",
    "    \n",
    "    # If user chooses more than one month or year, group by the start station id, name, latitude, and longitude, sum the number of rides (descending)\n",
    "    # and plot the first 10 stations \n",
    "    \n",
    "    if len(x)>1 or len(z)>1: \n",
    "        gooddata=df.loc[(df['Month Name'].isin(x)) & df['year'].isin(z)].sort_values('number of rides', ascending=False)\n",
    "        gooddata=gooddata.groupby(['start station id', 'start station name', 'start station latitude', 'start station longitude']).sum().reset_index()\n",
    "        gooddata=gooddata.sort_values('number of rides', ascending=False).head(10)\n",
    "    \n",
    "    else:\n",
    "         gooddata=df.loc[(df['Month Name'].isin(x)) & df['year'].isin(z)]\n",
    "            \n",
    "    nyc_map=folium.Map(location=[40.756, -73.982], zoom_start=11.9, min_zoom=10, tiles='cartodbdark_matter')\n",
    "    \n",
    "    for row in gooddata.itertuples():\n",
    "        folium.RegularPolygonMarker([row[3], row[4]], popup=row[2], radius=4).add_to(nyc_map)\n",
    "    return nyc_map\n",
    "\n",
    "interact(make_map, Months=SelectMultiple(options=months, value=['July']), Years=SelectMultiple(options=years, value=[2013]))"
   ]
  },
  {
   "cell_type": "code",
   "execution_count": 2,
   "metadata": {
    "collapsed": false
   },
   "outputs": [
    {
     "name": "stdout",
     "output_type": "stream",
     "text": [
      "tsk tsk\n"
     ]
    }
   ],
   "source": [
    "print('tsk tsk')"
   ]
  },
  {
   "cell_type": "code",
   "execution_count": null,
   "metadata": {
    "collapsed": true
   },
   "outputs": [],
   "source": []
  }
 ],
 "metadata": {
  "anaconda-cloud": {},
  "kernelspec": {
   "display_name": "Python [conda root]",
   "language": "python",
   "name": "conda-root-py"
  },
  "language_info": {
   "codemirror_mode": {
    "name": "ipython",
    "version": 3
   },
   "file_extension": ".py",
   "mimetype": "text/x-python",
   "name": "python",
   "nbconvert_exporter": "python",
   "pygments_lexer": "ipython3",
   "version": "3.5.2"
  }
 },
 "nbformat": 4,
 "nbformat_minor": 2
}
