{
 "cells": [
  {
   "cell_type": "markdown",
   "metadata": {
    "deletable": true,
    "editable": true
   },
   "source": [
    "### Number of Citi Bike Trips by Age Range and Gender"
   ]
  },
  {
   "cell_type": "markdown",
   "metadata": {
    "deletable": true,
    "editable": true
   },
   "source": [
    "#### Create one CSV with the sum of bike trips per age range and gender from each of the 40+ Citi Bike data files"
   ]
  },
  {
   "cell_type": "code",
   "execution_count": null,
   "metadata": {
    "collapsed": true,
    "deletable": true,
    "editable": true
   },
   "outputs": [],
   "source": [
    "import csv\n",
    "from csv import reader\n",
    "from csv import writer\n",
    "from collections import Counter\n",
    "import glob\n",
    "import collections\n",
    "import re\n",
    "\n",
    "pi=\"/Users/hildavargas/Desktop/Springboard_Mini_Projects/Capstone_Project/CitiBike_Data/\"\n",
    "\n",
    "people_all=[]\n",
    "\n",
    "for file in glob.glob(pi+\"*.csv\"):\n",
    "    path_i=file\n",
    "    \n",
    "    csv_=reader(open(path_i, \"r\"), delimiter=\",\")\n",
    "\n",
    "    num=re.findall(r'\\b\\d+\\b', file)\n",
    "\n",
    "    people=[]\n",
    "\n",
    "    # Skip the header\n",
    "    next(csv_)\n",
    "\n",
    "    for row in csv_:\n",
    "        people.append((row[14], row[13], num[0], num[1]))        \n",
    "\n",
    "    count=collections.Counter(people)\n",
    "    \n",
    "    x=count.items()\n",
    "    \n",
    "    people_unnested=[(a,b,c,d,e) for ((a, b, c, d),e) in x]\n",
    "    \n",
    "    people_all.append(people_unnested)\n",
    "\n",
    "    with open(\"/Users/hildavargas/Desktop/Springboard_Mini_Projects/Capstone_Project/CB_real_metrics/PeopleGenderAge.csv\", \"w\") as out:\n",
    "        csv_out=csv.writer(out, delimiter=',')\n",
    "        \n",
    "        fieldnames=['Gender','Birth Year', 'Year', 'Month', 'Number of Trips']\n",
    "        \n",
    "        csv_out.writerow(fieldnames)\n",
    "    \n",
    "        for row in people_all:\n",
    "            csv_out.writerows(row)"
   ]
  },
  {
   "cell_type": "markdown",
   "metadata": {
    "deletable": true,
    "editable": true
   },
   "source": [
    "#### Data Cleaning: Drop unprovided birth years and extreme outliers ( <1920)"
   ]
  },
  {
   "cell_type": "code",
   "execution_count": 1,
   "metadata": {
    "collapsed": false,
    "deletable": true,
    "editable": true
   },
   "outputs": [
    {
     "data": {
      "text/html": [
       "<div>\n",
       "<table border=\"1\" class=\"dataframe\">\n",
       "  <thead>\n",
       "    <tr style=\"text-align: right;\">\n",
       "      <th></th>\n",
       "      <th>Gender</th>\n",
       "      <th>Birth Year</th>\n",
       "      <th>Year</th>\n",
       "      <th>Month</th>\n",
       "      <th>Number of Trips</th>\n",
       "      <th>Age</th>\n",
       "    </tr>\n",
       "  </thead>\n",
       "  <tbody>\n",
       "    <tr>\n",
       "      <th>0</th>\n",
       "      <td>Female</td>\n",
       "      <td>1944.0</td>\n",
       "      <td>2013</td>\n",
       "      <td>7</td>\n",
       "      <td>100</td>\n",
       "      <td>72.0</td>\n",
       "    </tr>\n",
       "    <tr>\n",
       "      <th>1</th>\n",
       "      <td>Male</td>\n",
       "      <td>1921.0</td>\n",
       "      <td>2013</td>\n",
       "      <td>7</td>\n",
       "      <td>25</td>\n",
       "      <td>95.0</td>\n",
       "    </tr>\n",
       "    <tr>\n",
       "      <th>2</th>\n",
       "      <td>Male</td>\n",
       "      <td>1987.0</td>\n",
       "      <td>2013</td>\n",
       "      <td>7</td>\n",
       "      <td>17294</td>\n",
       "      <td>29.0</td>\n",
       "    </tr>\n",
       "    <tr>\n",
       "      <th>3</th>\n",
       "      <td>Female</td>\n",
       "      <td>1965.0</td>\n",
       "      <td>2013</td>\n",
       "      <td>7</td>\n",
       "      <td>2643</td>\n",
       "      <td>51.0</td>\n",
       "    </tr>\n",
       "    <tr>\n",
       "      <th>4</th>\n",
       "      <td>Male</td>\n",
       "      <td>1946.0</td>\n",
       "      <td>2013</td>\n",
       "      <td>7</td>\n",
       "      <td>976</td>\n",
       "      <td>70.0</td>\n",
       "    </tr>\n",
       "  </tbody>\n",
       "</table>\n",
       "</div>"
      ],
      "text/plain": [
       "   Gender  Birth Year  Year  Month  Number of Trips   Age\n",
       "0  Female      1944.0  2013      7              100  72.0\n",
       "1    Male      1921.0  2013      7               25  95.0\n",
       "2    Male      1987.0  2013      7            17294  29.0\n",
       "3  Female      1965.0  2013      7             2643  51.0\n",
       "4    Male      1946.0  2013      7              976  70.0"
      ]
     },
     "execution_count": 1,
     "metadata": {},
     "output_type": "execute_result"
    }
   ],
   "source": [
    "import numpy as np\n",
    "import pandas as pd\n",
    "\n",
    "# Null values written as \"/N\" -- replace with nulls\n",
    "peopledf=pd.read_csv(\"/Users/hildavargas/Desktop/Springboard_Mini_Projects/Capstone_Project/CB_real_metrics/PeopleGenderAge.csv\", na_values=[r'\\N'])\n",
    "\n",
    "# Replace Gender w/ 'Unknown, Male, Female' vs. '0, 1, 2'\n",
    "peopledf.Gender=peopledf.Gender.replace(0, 'Unknown')\n",
    "peopledf.Gender=peopledf.Gender.replace(1, 'Male')\n",
    "peopledf.Gender=peopledf.Gender.replace(2, 'Female')\n",
    "\n",
    "# Replace birth years < 1920 with nulls (see notebook \"Identifying Outliers in Age Range\" for reference)\n",
    "peopledf.ix[peopledf['Birth Year'] < 1920, 'Birth Year'] = np.nan\n",
    "\n",
    "# Drop rows with nulls (missing birth years and those < 1920)\n",
    "peopledf=peopledf.dropna()\n",
    "\n",
    "# Add column for actual age for each user\n",
    "peopledf['Age']=2016-peopledf['Birth Year']\n",
    "peopledf.head()\n"
   ]
  },
  {
   "cell_type": "markdown",
   "metadata": {
    "deletable": true,
    "editable": true
   },
   "source": [
    "#### Data Wrangling: Change birth years to age ranges so plot is less cluttered"
   ]
  },
  {
   "cell_type": "code",
   "execution_count": 2,
   "metadata": {
    "collapsed": false,
    "deletable": true,
    "editable": true
   },
   "outputs": [
    {
     "data": {
      "text/html": [
       "<div>\n",
       "<table border=\"1\" class=\"dataframe\">\n",
       "  <thead>\n",
       "    <tr style=\"text-align: right;\">\n",
       "      <th></th>\n",
       "      <th>Gender</th>\n",
       "      <th>Birth Year</th>\n",
       "      <th>Year</th>\n",
       "      <th>Month</th>\n",
       "      <th>Number of Trips</th>\n",
       "      <th>Age</th>\n",
       "      <th>Age Ranges</th>\n",
       "    </tr>\n",
       "  </thead>\n",
       "  <tbody>\n",
       "    <tr>\n",
       "      <th>0</th>\n",
       "      <td>Female</td>\n",
       "      <td>1944.0</td>\n",
       "      <td>2013</td>\n",
       "      <td>7</td>\n",
       "      <td>100</td>\n",
       "      <td>72.0</td>\n",
       "      <td>(70, 75]</td>\n",
       "    </tr>\n",
       "    <tr>\n",
       "      <th>1</th>\n",
       "      <td>Male</td>\n",
       "      <td>1921.0</td>\n",
       "      <td>2013</td>\n",
       "      <td>7</td>\n",
       "      <td>25</td>\n",
       "      <td>95.0</td>\n",
       "      <td>(90, 95]</td>\n",
       "    </tr>\n",
       "    <tr>\n",
       "      <th>2</th>\n",
       "      <td>Male</td>\n",
       "      <td>1987.0</td>\n",
       "      <td>2013</td>\n",
       "      <td>7</td>\n",
       "      <td>17294</td>\n",
       "      <td>29.0</td>\n",
       "      <td>(25, 30]</td>\n",
       "    </tr>\n",
       "    <tr>\n",
       "      <th>3</th>\n",
       "      <td>Female</td>\n",
       "      <td>1965.0</td>\n",
       "      <td>2013</td>\n",
       "      <td>7</td>\n",
       "      <td>2643</td>\n",
       "      <td>51.0</td>\n",
       "      <td>(50, 55]</td>\n",
       "    </tr>\n",
       "    <tr>\n",
       "      <th>4</th>\n",
       "      <td>Male</td>\n",
       "      <td>1946.0</td>\n",
       "      <td>2013</td>\n",
       "      <td>7</td>\n",
       "      <td>976</td>\n",
       "      <td>70.0</td>\n",
       "      <td>(65, 70]</td>\n",
       "    </tr>\n",
       "  </tbody>\n",
       "</table>\n",
       "</div>"
      ],
      "text/plain": [
       "   Gender  Birth Year  Year  Month  Number of Trips   Age Age Ranges\n",
       "0  Female      1944.0  2013      7              100  72.0   (70, 75]\n",
       "1    Male      1921.0  2013      7               25  95.0   (90, 95]\n",
       "2    Male      1987.0  2013      7            17294  29.0   (25, 30]\n",
       "3  Female      1965.0  2013      7             2643  51.0   (50, 55]\n",
       "4    Male      1946.0  2013      7              976  70.0   (65, 70]"
      ]
     },
     "execution_count": 2,
     "metadata": {},
     "output_type": "execute_result"
    }
   ],
   "source": [
    "# Create bins for age ranges based\n",
    "bins=[]\n",
    "for number in range(15, 120, 5):\n",
    "   bins.append(number)\n",
    "\n",
    "# Add age ranges column to dataframe\n",
    "peopledf['Age Ranges']=pd.cut(peopledf['Age'], precision=0, bins=bins)\n",
    "peopledf.sort_values('Age Ranges')\n",
    "peopledf.head()"
   ]
  },
  {
   "cell_type": "code",
   "execution_count": 3,
   "metadata": {
    "collapsed": false,
    "deletable": true,
    "editable": true
   },
   "outputs": [
    {
     "data": {
      "text/plain": [
       "0"
      ]
     },
     "execution_count": 3,
     "metadata": {},
     "output_type": "execute_result"
    }
   ],
   "source": [
    "# Checking for nulls in age range column\n",
    "x=peopledf['Age Ranges'].isnull()\n",
    "np.sum(x)"
   ]
  },
  {
   "cell_type": "code",
   "execution_count": 4,
   "metadata": {
    "collapsed": false,
    "deletable": true,
    "editable": true
   },
   "outputs": [
    {
     "data": {
      "text/plain": [
       "array(['71-75', '91-95', '26-30', '51-55', '66-70', '61-65', '81-85',\n",
       "       '76-80', '31-35', '46-50', '56-60', '41-45', '86-90', '36-40',\n",
       "       '21-25', '96-100', '16-20'], dtype=object)"
      ]
     },
     "execution_count": 4,
     "metadata": {},
     "output_type": "execute_result"
    }
   ],
   "source": [
    "# Change age ranges to intervals that will be easier to understand in a plot\n",
    "unique_ranges=peopledf['Age Ranges'].unique()\n",
    "from collections import defaultdict\n",
    "x=defaultdict(str)\n",
    "\n",
    "for line in unique_ranges:\n",
    "    if int(line[2]) % 2 ==0:\n",
    "        z=line[1]+'1'\n",
    "    else:\n",
    "        z=line[1]+'6'\n",
    "    \n",
    "    d=line[5:7]\n",
    "    result=z+'-'+d\n",
    "    x[line]=result\n",
    "    x['(95, 100]']='96-100'\n",
    "\n",
    "peopledf['Age Range']=peopledf['Age Ranges'].map(x)\n",
    "peopledf['Age Range'].unique()"
   ]
  },
  {
   "cell_type": "code",
   "execution_count": 5,
   "metadata": {
    "collapsed": false,
    "deletable": true,
    "editable": true
   },
   "outputs": [
    {
     "data": {
      "text/html": [
       "<div>\n",
       "<table border=\"1\" class=\"dataframe\">\n",
       "  <thead>\n",
       "    <tr style=\"text-align: right;\">\n",
       "      <th></th>\n",
       "      <th>Gender</th>\n",
       "      <th>Birth Year</th>\n",
       "      <th>Year</th>\n",
       "      <th>Month</th>\n",
       "      <th>Number of Trips</th>\n",
       "      <th>Age</th>\n",
       "      <th>Age Ranges</th>\n",
       "      <th>Age Range</th>\n",
       "    </tr>\n",
       "  </thead>\n",
       "  <tbody>\n",
       "    <tr>\n",
       "      <th>0</th>\n",
       "      <td>Female</td>\n",
       "      <td>1944.0</td>\n",
       "      <td>2013</td>\n",
       "      <td>7</td>\n",
       "      <td>100</td>\n",
       "      <td>72.0</td>\n",
       "      <td>(70, 75]</td>\n",
       "      <td>71-75</td>\n",
       "    </tr>\n",
       "    <tr>\n",
       "      <th>1</th>\n",
       "      <td>Male</td>\n",
       "      <td>1921.0</td>\n",
       "      <td>2013</td>\n",
       "      <td>7</td>\n",
       "      <td>25</td>\n",
       "      <td>95.0</td>\n",
       "      <td>(90, 95]</td>\n",
       "      <td>91-95</td>\n",
       "    </tr>\n",
       "    <tr>\n",
       "      <th>2</th>\n",
       "      <td>Male</td>\n",
       "      <td>1987.0</td>\n",
       "      <td>2013</td>\n",
       "      <td>7</td>\n",
       "      <td>17294</td>\n",
       "      <td>29.0</td>\n",
       "      <td>(25, 30]</td>\n",
       "      <td>26-30</td>\n",
       "    </tr>\n",
       "    <tr>\n",
       "      <th>3</th>\n",
       "      <td>Female</td>\n",
       "      <td>1965.0</td>\n",
       "      <td>2013</td>\n",
       "      <td>7</td>\n",
       "      <td>2643</td>\n",
       "      <td>51.0</td>\n",
       "      <td>(50, 55]</td>\n",
       "      <td>51-55</td>\n",
       "    </tr>\n",
       "    <tr>\n",
       "      <th>4</th>\n",
       "      <td>Male</td>\n",
       "      <td>1946.0</td>\n",
       "      <td>2013</td>\n",
       "      <td>7</td>\n",
       "      <td>976</td>\n",
       "      <td>70.0</td>\n",
       "      <td>(65, 70]</td>\n",
       "      <td>66-70</td>\n",
       "    </tr>\n",
       "  </tbody>\n",
       "</table>\n",
       "</div>"
      ],
      "text/plain": [
       "   Gender  Birth Year  Year  Month  Number of Trips   Age Age Ranges Age Range\n",
       "0  Female      1944.0  2013      7              100  72.0   (70, 75]     71-75\n",
       "1    Male      1921.0  2013      7               25  95.0   (90, 95]     91-95\n",
       "2    Male      1987.0  2013      7            17294  29.0   (25, 30]     26-30\n",
       "3  Female      1965.0  2013      7             2643  51.0   (50, 55]     51-55\n",
       "4    Male      1946.0  2013      7              976  70.0   (65, 70]     66-70"
      ]
     },
     "execution_count": 5,
     "metadata": {},
     "output_type": "execute_result"
    }
   ],
   "source": [
    "# Update dataframe to reflect new intervals\n",
    "peopledf['Age Range']=peopledf['Age Ranges'].map(x)\n",
    "peopledf.head()"
   ]
  },
  {
   "cell_type": "markdown",
   "metadata": {
    "deletable": true,
    "editable": true
   },
   "source": [
    "#### Create an interactive point plot with ipywidget and Seaborn to examine the number of trips per age group"
   ]
  },
  {
   "cell_type": "code",
   "execution_count": 6,
   "metadata": {
    "collapsed": false,
    "deletable": true,
    "editable": true
   },
   "outputs": [
    {
     "data": {
      "application/vnd.jupyter.widget-view+json": {
       "model_id": "abcc519ff0fb4121909a240eec784cfe"
      }
     },
     "metadata": {},
     "output_type": "display_data"
    },
    {
     "data": {
      "text/plain": [
       "<function __main__.make_plot>"
      ]
     },
     "execution_count": 6,
     "metadata": {},
     "output_type": "execute_result"
    }
   ],
   "source": [
    "from ipywidgets import interact, Layout\n",
    "from ipywidgets.widgets import SelectMultiple\n",
    "import seaborn as sns\n",
    "import matplotlib.pyplot as plt\n",
    "import matplotlib\n",
    "%matplotlib inline\n",
    "import textwrap\n",
    "\n",
    "# Create dictionary for new column in dataframe with the actual month name\n",
    "months_name={}\n",
    "months_name[1]='January'\n",
    "months_name[2]=\"February\"\n",
    "months_name[3]= \"March\"\n",
    "months_name[4]=\"April\"\n",
    "months_name[5]=\"May\"\n",
    "months_name[6]=\"June\"\n",
    "months_name[7]=\"July\"\n",
    "months_name[8]=\"August\"\n",
    "months_name[9]=\"September\"\n",
    "months_name[10]=\"October\"\n",
    "months_name[11]=\"November\"\n",
    "months_name[12]=\"December\"\n",
    "\n",
    "df=peopledf.copy()\n",
    "df['Month Name']=df[\"Month\"].map(months_name)\n",
    "\n",
    "# Create lists of unique values for months and years for widget\n",
    "months=['January', 'February', 'March', 'April', 'May', 'June', 'July', 'August', 'September', 'October', 'November', 'December']\n",
    "years=sorted(df['Year'].unique().tolist())\n",
    "\n",
    "# Define function for interactive widget\n",
    "def make_plot(Months, Years):\n",
    "    x=list(Months)\n",
    "    z=list(Years)\n",
    "    try:\n",
    "        gooddata=df.loc[(df['Month Name'].isin(x)) & df['Year'].isin(z)].sort_values(by='Age Range')\n",
    "        sns.set_style(\"whitegrid\")\n",
    "        plt.rcParams['figure.figsize']=(10,10)\n",
    "        pal={'Female': \"#f9a65a\", 'Male': \"#9e66ab\", 'Unknown':\"#af2b30\"}\n",
    "        plot=sns.pointplot('Age Range', 'Number of Trips', estimator=sum, data=gooddata, ci=None, color=\"#af2b30\")\n",
    "        title=plt.title(\"Number of Trips per Age Range\", fontsize=16, fontweight=\"bold\")\n",
    "        title.set_position([.5, 1.05])\n",
    "        plt.ylabel('Number of Trips')\n",
    "        for item in plot.get_xticklabels():\n",
    "            item.set_rotation(35)\n",
    "        for tick in plot.xaxis.get_major_ticks():\n",
    "                    tick.label.set_fontsize(10)\n",
    "        for tick in plot.yaxis.get_major_ticks():\n",
    "                    tick.label.set_fontsize(12)\n",
    "        plot.yaxis.label.set_size(14)\n",
    "        plot.xaxis.label.set_size(14)\n",
    "        plot.xaxis.labelpad = 20\n",
    "        plot.yaxis.labelpad = 20\n",
    "        plot.get_yaxis().set_major_formatter(matplotlib.ticker.FuncFormatter(lambda x, p: format(int(x), ',')))\n",
    "        plt.show()\n",
    "    \n",
    "    except ValueError:\n",
    "            text=\"This dataset spans from July 2013 (Citi Bike's opening to the public) to December 2016. Please make another selection and try again.\" \n",
    "            print(textwrap.fill(text, 100))\n",
    "            \n",
    "interact(make_plot, Months=SelectMultiple(options=months, value=['July']), Years=SelectMultiple(options=years, value=[2013]))"
   ]
  },
  {
   "cell_type": "markdown",
   "metadata": {
    "deletable": true,
    "editable": true
   },
   "source": [
    "#### Create an interactive bar plot with ipywidget and Seaborn to compare the number of trips based off age groups & gender"
   ]
  },
  {
   "cell_type": "code",
   "execution_count": 7,
   "metadata": {
    "collapsed": false,
    "deletable": true,
    "editable": true
   },
   "outputs": [
    {
     "data": {
      "application/vnd.jupyter.widget-view+json": {
       "model_id": "0d6bcfcf6a124f5a9abb3cbaa071d1cf"
      }
     },
     "metadata": {},
     "output_type": "display_data"
    },
    {
     "data": {
      "text/plain": [
       "<function __main__.make_plot2>"
      ]
     },
     "execution_count": 7,
     "metadata": {},
     "output_type": "execute_result"
    }
   ],
   "source": [
    "from ipywidgets import interact, Layout\n",
    "from ipywidgets.widgets import SelectMultiple\n",
    "import seaborn as sns\n",
    "import matplotlib.pyplot as plt\n",
    "import matplotlib\n",
    "%matplotlib inline\n",
    "import textwrap\n",
    "\n",
    "# Create dictionary for new column in dataframe with the actual month name\n",
    "months_name={}\n",
    "months_name[1]='January'\n",
    "months_name[2]=\"February\"\n",
    "months_name[3]= \"March\"\n",
    "months_name[4]=\"April\"\n",
    "months_name[5]=\"May\"\n",
    "months_name[6]=\"June\"\n",
    "months_name[7]=\"July\"\n",
    "months_name[8]=\"August\"\n",
    "months_name[9]=\"September\"\n",
    "months_name[10]=\"October\"\n",
    "months_name[11]=\"November\"\n",
    "months_name[12]=\"December\"\n",
    "\n",
    "df=peopledf.copy()\n",
    "df['Month Name']=df[\"Month\"].map(months_name)\n",
    "\n",
    "# Create lists of unique values for months and years for widget\n",
    "months=['January', 'February', 'March', 'April', 'May', 'June', 'July', 'August', 'September', 'October', 'November', 'December']\n",
    "years=sorted(df['Year'].unique().tolist())\n",
    "\n",
    "# Define function for interactive widget\n",
    "def make_plot2(Months, Years):\n",
    "    x=list(Months)\n",
    "    z=list(Years)\n",
    "    try:\n",
    "        gooddata=df.loc[(df['Month Name'].isin(x)) & df['Year'].isin(z)].sort_values(by='Age Range')\n",
    "        sns.set_style(\"whitegrid\")\n",
    "        plt.rcParams['figure.figsize']=(10,8)\n",
    "        pal={'Female': \"#f9a65a\", 'Male': \"#9e66ab\", 'Unknown':\"#af2b30\"}\n",
    "        plot=sns.barplot('Age Range', 'Number of Trips', hue='Gender', estimator=sum, data=gooddata, ci=None, palette=pal)\n",
    "        title=plt.title(\"Number of Trips per Age Range, Grouped by Gender\", fontsize=16, fontweight=\"bold\")\n",
    "        title.set_position([.5, 1.05])\n",
    "        plt.ylabel('Number of Trips')\n",
    "        plt.legend(loc=1)\n",
    "        for item in plot.get_xticklabels():\n",
    "            item.set_rotation(40)\n",
    "        for tick in plot.xaxis.get_major_ticks():\n",
    "                    tick.label.set_fontsize(12)\n",
    "        for tick in plot.yaxis.get_major_ticks():\n",
    "                    tick.label.set_fontsize(12)\n",
    "        plot.yaxis.label.set_size(14)\n",
    "        plot.xaxis.label.set_size(14)\n",
    "        plot.xaxis.labelpad = 20\n",
    "        plot.yaxis.labelpad = 20\n",
    "        plot.get_yaxis().set_major_formatter(matplotlib.ticker.FuncFormatter(lambda x, p: format(int(x), ',')))\n",
    "        plt.show()\n",
    "    \n",
    "    except ValueError:\n",
    "            text=\"This dataset spans from July 2013 (Citi Bike's opening to the public) to December 2016. Please make another selection and try again.\" \n",
    "            print(textwrap.fill(text, 100))\n",
    "            \n",
    "interact(make_plot2, Months=SelectMultiple(options=months, value=['July']), Years=SelectMultiple(options=years, value=[2013]))"
   ]
  }
 ],
 "metadata": {
  "anaconda-cloud": {},
  "kernelspec": {
   "display_name": "Python [conda root]",
   "language": "python",
   "name": "conda-root-py"
  },
  "language_info": {
   "codemirror_mode": {
    "name": "ipython",
    "version": 3
   },
   "file_extension": ".py",
   "mimetype": "text/x-python",
   "name": "python",
   "nbconvert_exporter": "python",
   "pygments_lexer": "ipython3",
   "version": "3.5.2"
  }
 },
 "nbformat": 4,
 "nbformat_minor": 2
}
