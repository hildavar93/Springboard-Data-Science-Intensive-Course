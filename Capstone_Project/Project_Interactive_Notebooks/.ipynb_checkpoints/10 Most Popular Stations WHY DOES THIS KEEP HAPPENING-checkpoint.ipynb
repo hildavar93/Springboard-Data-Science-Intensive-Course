{
 "cells": [
  {
   "cell_type": "markdown",
   "metadata": {
    "deletable": true,
    "editable": true
   },
   "source": [
    "### The 10 Most Popular Citi Bike Stations"
   ]
  },
  {
   "cell_type": "code",
   "execution_count": 107,
   "metadata": {
    "collapsed": true,
    "deletable": true,
    "editable": true
   },
   "outputs": [],
   "source": [
    "# Create CSV with 10 most popular stations in each data file\n",
    "import csv\n",
    "from csv import reader\n",
    "from csv import writer\n",
    "from collections import Counter\n",
    "import glob\n",
    "import collections\n",
    "import re\n",
    "\n",
    "path=\"/Users/hildavargas/Desktop/Springboard_Mini_Projects/Capstone_Project/CitiBike_Data/\"\n",
    "\n",
    "most_common_all=[]\n",
    "\n",
    "for file in glob.glob(path+\"*.csv\"):\n",
    "    \n",
    "    path_i=file\n",
    "    \n",
    "    csv_r=reader(open(path_i, \"r\"), delimiter=\",\")\n",
    "    \n",
    "    num=re.findall(r'\\b\\d+\\b', file)\n",
    "    \n",
    "    stations=[]\n",
    "    \n",
    "    for row in csv_r:\n",
    "        stations.append((row[3], row[4], row[5], row[6], num[0], num[1]))\n",
    "    \n",
    "    counter=collections.Counter(stations)\n",
    "    \n",
    "    most_common_nested=counter.most_common(10)\n",
    "    \n",
    "    most_common=[(a,b,c,d,e,f, g) for ((a, b, c, d, e, f),g) in most_common_nested]\n",
    "    \n",
    "    most_common_all.append(most_common)\n",
    "\n",
    "    with open(\"/Users/hildavargas/Desktop/Springboard_Mini_Projects/Capstone_Project/CB_real_metrics/10MostPopularStations.csv\", \"w\") as out:\n",
    "        csv_o=csv.writer(out, delimiter=',')\n",
    "        \n",
    "        fieldnames=['start station id','start station name', 'start station latitude', 'start station longitude', 'year', 'month', 'number of rides']\n",
    "        \n",
    "        csv_o.writerow(fieldnames)\n",
    "    \n",
    "        for row in most_common_all:\n",
    "            csv_o.writerows(row)"
   ]
  },
  {
   "cell_type": "code",
   "execution_count": 185,
   "metadata": {
    "collapsed": false,
    "deletable": true,
    "editable": true
   },
   "outputs": [
    {
     "data": {
      "text/html": [
       "<div>\n",
       "<table border=\"1\" class=\"dataframe\">\n",
       "  <thead>\n",
       "    <tr style=\"text-align: right;\">\n",
       "      <th></th>\n",
       "      <th>start station id</th>\n",
       "      <th>start station name</th>\n",
       "      <th>start station latitude</th>\n",
       "      <th>start station longitude</th>\n",
       "      <th>year</th>\n",
       "      <th>month</th>\n",
       "      <th>number of rides</th>\n",
       "    </tr>\n",
       "  </thead>\n",
       "  <tbody>\n",
       "    <tr>\n",
       "      <th>0</th>\n",
       "      <td>459</td>\n",
       "      <td>W 20 St &amp; 11 Ave</td>\n",
       "      <td>40.746745</td>\n",
       "      <td>-74.007756</td>\n",
       "      <td>2013</td>\n",
       "      <td>7</td>\n",
       "      <td>2013</td>\n",
       "    </tr>\n",
       "    <tr>\n",
       "      <th>1</th>\n",
       "      <td>497</td>\n",
       "      <td>E 17 St &amp; Broadway</td>\n",
       "      <td>40.737050</td>\n",
       "      <td>-73.990093</td>\n",
       "      <td>2013</td>\n",
       "      <td>7</td>\n",
       "      <td>2013</td>\n",
       "    </tr>\n",
       "    <tr>\n",
       "      <th>2</th>\n",
       "      <td>426</td>\n",
       "      <td>West St &amp; Chambers St</td>\n",
       "      <td>40.717548</td>\n",
       "      <td>-74.013221</td>\n",
       "      <td>2013</td>\n",
       "      <td>7</td>\n",
       "      <td>2013</td>\n",
       "    </tr>\n",
       "    <tr>\n",
       "      <th>3</th>\n",
       "      <td>519</td>\n",
       "      <td>Pershing Square N</td>\n",
       "      <td>40.751884</td>\n",
       "      <td>-73.977702</td>\n",
       "      <td>2013</td>\n",
       "      <td>7</td>\n",
       "      <td>2013</td>\n",
       "    </tr>\n",
       "    <tr>\n",
       "      <th>4</th>\n",
       "      <td>285</td>\n",
       "      <td>Broadway &amp; E 14 St</td>\n",
       "      <td>40.734546</td>\n",
       "      <td>-73.990741</td>\n",
       "      <td>2013</td>\n",
       "      <td>7</td>\n",
       "      <td>2013</td>\n",
       "    </tr>\n",
       "  </tbody>\n",
       "</table>\n",
       "</div>"
      ],
      "text/plain": [
       "   start station id     start station name  start station latitude  \\\n",
       "0               459       W 20 St & 11 Ave               40.746745   \n",
       "1               497     E 17 St & Broadway               40.737050   \n",
       "2               426  West St & Chambers St               40.717548   \n",
       "3               519      Pershing Square N               40.751884   \n",
       "4               285     Broadway & E 14 St               40.734546   \n",
       "\n",
       "   start station longitude  year  month  number of rides  \n",
       "0               -74.007756  2013      7             2013  \n",
       "1               -73.990093  2013      7             2013  \n",
       "2               -74.013221  2013      7             2013  \n",
       "3               -73.977702  2013      7             2013  \n",
       "4               -73.990741  2013      7             2013  "
      ]
     },
     "execution_count": 185,
     "metadata": {},
     "output_type": "execute_result"
    }
   ],
   "source": [
    "# Create dataframe from csv created above\n",
    "\n",
    "import pandas as pd\n",
    "from boto.s3.connection import S3Connection\n",
    "from io import BytesIO\n",
    "\n",
    "conn = S3Connection('', '', anon=True)\n",
    "bucket = conn.get_bucket('hildavarcapstone')\n",
    "key= bucket.get_key('10MostPopularStations.csv')\n",
    "blob=BytesIO(key.get_contents_as_string())\n",
    "mostcommondf=pd.read_csv(blob)\n",
    "mostcommondf.head()\n",
    "\n",
    "mostcommondf[['start station id']] = mostcommondf[['start station id']].apply(pd.to_numeric)\n",
    "mostcommondf[['year']] = mostcommondf[['year']].apply(pd.to_numeric)\n",
    "mostcommondf[['month']] = mostcommondf[['month']].apply(pd.to_numeric)\n",
    "mostcommondf[['number of rides']] = mostcommondf[['year']].apply(pd.to_numeric)\n",
    "mostcommondf.head()"
   ]
  },
  {
   "cell_type": "markdown",
   "metadata": {
    "deletable": true,
    "editable": true
   },
   "source": [
    "#### Data Cleaning: Handling duplicate stations\n",
    "\n",
    "There are some stations that are the same, but are identified as unique because their coordinates slightly changed \n",
    "over time. If I keep them as they are, two markers will show for one station. Create a new dataframe for each \n",
    "unique station (identified by its start station id), and keep only its most recent coordinates and name. Convert this \n",
    "dataframe to dictionaries for each column and replace the current values in the original dataframe."
   ]
  },
  {
   "cell_type": "code",
   "execution_count": 186,
   "metadata": {
    "collapsed": false,
    "deletable": true,
    "editable": true
   },
   "outputs": [
    {
     "data": {
      "text/html": [
       "<div>\n",
       "<table border=\"1\" class=\"dataframe\">\n",
       "  <thead>\n",
       "    <tr style=\"text-align: right;\">\n",
       "      <th></th>\n",
       "      <th>start station id</th>\n",
       "      <th>start station name</th>\n",
       "      <th>start station latitude</th>\n",
       "      <th>start station longitude</th>\n",
       "      <th>year</th>\n",
       "      <th>month</th>\n",
       "      <th>number of rides</th>\n",
       "    </tr>\n",
       "  </thead>\n",
       "  <tbody>\n",
       "    <tr>\n",
       "      <th>0</th>\n",
       "      <td>459</td>\n",
       "      <td>W 20 St &amp; 11 Ave</td>\n",
       "      <td>40.746745</td>\n",
       "      <td>-74.007756</td>\n",
       "      <td>2013</td>\n",
       "      <td>7</td>\n",
       "      <td>2013</td>\n",
       "    </tr>\n",
       "    <tr>\n",
       "      <th>1</th>\n",
       "      <td>497</td>\n",
       "      <td>E 17 St &amp; Broadway</td>\n",
       "      <td>40.737050</td>\n",
       "      <td>-73.990093</td>\n",
       "      <td>2013</td>\n",
       "      <td>7</td>\n",
       "      <td>2013</td>\n",
       "    </tr>\n",
       "    <tr>\n",
       "      <th>2</th>\n",
       "      <td>426</td>\n",
       "      <td>West St &amp; Chambers St</td>\n",
       "      <td>40.717548</td>\n",
       "      <td>-74.013221</td>\n",
       "      <td>2013</td>\n",
       "      <td>7</td>\n",
       "      <td>2013</td>\n",
       "    </tr>\n",
       "    <tr>\n",
       "      <th>3</th>\n",
       "      <td>519</td>\n",
       "      <td>Pershing Square North</td>\n",
       "      <td>40.751873</td>\n",
       "      <td>-73.977706</td>\n",
       "      <td>2013</td>\n",
       "      <td>7</td>\n",
       "      <td>2013</td>\n",
       "    </tr>\n",
       "    <tr>\n",
       "      <th>4</th>\n",
       "      <td>285</td>\n",
       "      <td>Broadway &amp; E 14 St</td>\n",
       "      <td>40.734546</td>\n",
       "      <td>-73.990741</td>\n",
       "      <td>2013</td>\n",
       "      <td>7</td>\n",
       "      <td>2013</td>\n",
       "    </tr>\n",
       "  </tbody>\n",
       "</table>\n",
       "</div>"
      ],
      "text/plain": [
       "   start station id     start station name  start station latitude  \\\n",
       "0               459       W 20 St & 11 Ave               40.746745   \n",
       "1               497     E 17 St & Broadway               40.737050   \n",
       "2               426  West St & Chambers St               40.717548   \n",
       "3               519  Pershing Square North               40.751873   \n",
       "4               285     Broadway & E 14 St               40.734546   \n",
       "\n",
       "   start station longitude  year  month  number of rides  \n",
       "0               -74.007756  2013      7             2013  \n",
       "1               -73.990093  2013      7             2013  \n",
       "2               -74.013221  2013      7             2013  \n",
       "3               -73.977706  2013      7             2013  \n",
       "4               -73.990741  2013      7             2013  "
      ]
     },
     "execution_count": 186,
     "metadata": {},
     "output_type": "execute_result"
    }
   ],
   "source": [
    "from collections import defaultdict\n",
    "\n",
    "coord_df=mostcommondf.copy()\n",
    "coord_df=coord_df.drop(coord_df.columns[[6]], axis=1)\n",
    "coord_df=coord_df.sort_values(['start station id', 'year'])\n",
    "coord_df[['start station id']] = coord_df[['start station id']].apply(pd.to_numeric)\n",
    "coord_df=coord_df.drop_duplicates('start station id', keep='last')\n",
    "\n",
    "# Replace start station name\n",
    "\n",
    "name_dict={}\n",
    "for row in coord_df.itertuples():\n",
    "    name_dict[row[1]]=row[2]\n",
    "mostcommondf['start station name']=mostcommondf['start station id'].map(name_dict)\n",
    "\n",
    "# Replace start station latitude\n",
    "\n",
    "lat_dict={}\n",
    "for row in coord_df.itertuples():\n",
    "    lat_dict[row[1]]=row[3]\n",
    "mostcommondf['start station latitude']=mostcommondf['start station id'].map(lat_dict)\n",
    "\n",
    "# Replace start station longitude\n",
    "\n",
    "long_dict={}\n",
    "for row in coord_df.itertuples():\n",
    "    long_dict[row[1]]=row[4]\n",
    "mostcommondf['start station longitude']=mostcommondf['start station id'].map(long_dict)\n",
    "\n",
    "mostcommondf.head()"
   ]
  },
  {
   "cell_type": "markdown",
   "metadata": {
    "deletable": true,
    "editable": true
   },
   "source": [
    "#### Create an interactive map for the 10 most popular start stations with Folium"
   ]
  },
  {
   "cell_type": "code",
   "execution_count": 187,
   "metadata": {
    "collapsed": false,
    "deletable": true,
    "editable": true
   },
   "outputs": [
    {
     "data": {
      "text/html": [
       "<div style=\"width:100%;\"><div style=\"position:relative;width:100%;height:0;padding-bottom:60%;\"><iframe src=\"data:text/html;charset=utf-8;base64,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\" style=\"position:absolute;width:100%;height:100%;left:0;top:0;border:none !important;\" allowfullscreen webkitallowfullscreen mozallowfullscreen></iframe></div></div>"
      ],
      "text/plain": [
       "<folium.folium.Map at 0x112207e10>"
      ]
     },
     "metadata": {},
     "output_type": "display_data"
    },
    {
     "data": {
      "text/plain": [
       "<function __main__.make_map>"
      ]
     },
     "execution_count": 187,
     "metadata": {},
     "output_type": "execute_result"
    }
   ],
   "source": [
    "from ipywidgets import interact, Layout\n",
    "from ipywidgets.widgets import SelectMultiple\n",
    "import folium\n",
    "from IPython import display\n",
    "\n",
    "# Create dictionary for new column in dataframe with the actual month name\n",
    "months_name={}\n",
    "months_name[1]='January'\n",
    "months_name[2]=\"February\"\n",
    "months_name[3]= \"March\"\n",
    "months_name[4]=\"April\"\n",
    "months_name[5]=\"May\"\n",
    "months_name[6]=\"June\"\n",
    "months_name[7]=\"July\"\n",
    "months_name[8]=\"August\"\n",
    "months_name[9]=\"September\"\n",
    "months_name[10]=\"October\"\n",
    "months_name[11]=\"November\"\n",
    "months_name[12]=\"December\"\n",
    "\n",
    "df=mostcommondf.copy()\n",
    "df['Month Name']=df[\"month\"].map(months_name)\n",
    "\n",
    "# Create lists of unique values for months and years for widget\n",
    "months=['January', 'February', 'March', 'April', 'May', 'June', 'July', 'August', 'September', 'October', 'November', 'December']\n",
    "years=sorted(df['year'].unique().tolist())\n",
    "\n",
    "# Define function for interactive widget\n",
    "def make_map(Months, Years):\n",
    "    x=list(Months)\n",
    "    z=list(Years)\n",
    "    \n",
    "    # If user chooses more than one month or year, group by the start station id, name, latitude, and longitude, sum the number of rides (descending)\n",
    "    # and plot the first 10 stations \n",
    "    \n",
    "    if len(x)>1 or len(z)>1: \n",
    "        gooddata=df.loc[(df['Month Name'].isin(x)) & df['year'].isin(z)].sort_values('number of rides', ascending=False)\n",
    "        gooddata=gooddata.groupby(['start station id', 'start station name', 'start station latitude', 'start station longitude']).sum().reset_index()\n",
    "        gooddata=gooddata.sort_values('number of rides', ascending=False).head(10)\n",
    "    \n",
    "    else:\n",
    "         gooddata=df.loc[(df['Month Name'].isin(x)) & df['year'].isin(z)]\n",
    "            \n",
    "    nyc_map=folium.Map(location=[40.756, -73.982], zoom_start=11.9, min_zoom=10, tiles='cartodbdark_matter')\n",
    "    \n",
    "    for row in gooddata.itertuples():\n",
    "        folium.RegularPolygonMarker([row[3], row[4]], popup=row[2], radius=4).add_to(nyc_map)\n",
    "    return nyc_map\n",
    "\n",
    "interact(make_map, Months=SelectMultiple(options=months, value=['July']), Years=SelectMultiple(options=years, value=[2013]))"
   ]
  }
 ],
 "metadata": {
  "anaconda-cloud": {},
  "kernelspec": {
   "display_name": "Python [conda root]",
   "language": "python",
   "name": "conda-root-py"
  },
  "language_info": {
   "codemirror_mode": {
    "name": "ipython",
    "version": 3
   },
   "file_extension": ".py",
   "mimetype": "text/x-python",
   "name": "python",
   "nbconvert_exporter": "python",
   "pygments_lexer": "ipython3",
   "version": "3.5.2"
  },
  "widgets": {
   "state": {
    "12fcd45ee3d54a8b8876725df56267ab": {
     "views": [
      {
       "cell_index": 7
      }
     ]
    }
   },
   "version": "1.2.0"
  }
 },
 "nbformat": 4,
 "nbformat_minor": 1
}
