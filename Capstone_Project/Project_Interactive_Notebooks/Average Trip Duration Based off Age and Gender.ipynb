{
 "cells": [
  {
   "cell_type": "markdown",
   "metadata": {
    "deletable": true,
    "editable": true
   },
   "source": [
    "### Average Trip Duration Based off Age and Gender"
   ]
  },
  {
   "cell_type": "markdown",
   "metadata": {
    "deletable": true,
    "editable": true
   },
   "source": [
    "#### Create one CSV with the average trip duration for people of the same gender and age from each of the 40+ Citi Bike data files"
   ]
  },
  {
   "cell_type": "code",
   "execution_count": null,
   "metadata": {
    "collapsed": true,
    "deletable": true,
    "editable": true
   },
   "outputs": [],
   "source": [
    "import csv\n",
    "from csv import reader\n",
    "from collections import Counter, defaultdict\n",
    "import re\n",
    "import glob\n",
    "\n",
    "path=\"/Users/hildavargas/Desktop/Springboard_Mini_Projects/Capstone_Project/CitiBike_Data/\"\n",
    "\n",
    "avg_trip_all=[]\n",
    "\n",
    "for file in glob.glob(path+\"*.csv\"):\n",
    "    \n",
    "    csv_x=reader(open(file, \"r\"), delimiter=\",\")\n",
    "    num=re.findall(r'\\b\\d+\\b', file)\n",
    "\n",
    "    tripduration=[]\n",
    "\n",
    "    # Skip header\n",
    "    next(csv_x)\n",
    "    for row in csv_x:\n",
    "        tripduration.append((row[14], row[13], num[0], num[1], row[0]))\n",
    "\n",
    "    # Separate the trip duration so that we can find averages for people of same age, year of birth, and gender in a given month/year\n",
    "    tripdurationnested=[((a, b, c, d),e) for (a, b, c, d, e) in tripduration]\n",
    "\n",
    "    tripdict=defaultdict(int)\n",
    "    \n",
    "    # Create dictionary w/ key=(gender, year of birth, month, year) and value=trip duration\n",
    "    for line in tripdurationnested:\n",
    "    # Extend the values (trip duration) for a given key if there is a duplicate key    \n",
    "        if line[0] in tripdict:\n",
    "            tripdict[line[0]].append(line[1])\n",
    "        else:\n",
    "            tripdict[line[0]] = [line[1]]\n",
    "\n",
    "    tripavg={}\n",
    "    for keys, values in tripdict.items():\n",
    "    # Convert all trip durations from strings to integers\n",
    "        values=list(map(int, values))\n",
    "    # Create new dictionary with keys (same as before) and values (average trip duration)\n",
    "        tripavg[keys] = round(sum(values)/len(values), 2)\n",
    "\n",
    "    nestedtripavg=tripavg.items()\n",
    "    \n",
    "    finaltripavg=[(a, b, c, d, e) for ((a, b, c, d), e) in nestedtripavg]\n",
    "\n",
    "    avg_trip_all.append(finaltripavg)\n",
    "    \n",
    "    with open(\"/Users/hildavargas/Desktop/Springboard_Mini_Projects/Capstone_Project/CB_real_metrics/TripDuration.csv\", \"w\") as out:\n",
    "        csv_o=csv.writer(out, delimiter=',')\n",
    "        fieldnames=['Gender','Birth Year', 'Year', 'Month', 'Average Trip Duration(s)']\n",
    "        csv_o.writerow(fieldnames)\n",
    "    \n",
    "        for row in avg_trip_all:\n",
    "            csv_o.writerows(row)\n",
    " "
   ]
  },
  {
   "cell_type": "markdown",
   "metadata": {
    "deletable": true,
    "editable": true
   },
   "source": [
    "#### Data Cleaning: Drop unprovided birth years and extreme outliers ( <1920)"
   ]
  },
  {
   "cell_type": "code",
   "execution_count": 3,
   "metadata": {
    "collapsed": false,
    "deletable": true,
    "editable": true
   },
   "outputs": [
    {
     "data": {
      "text/html": [
       "<div>\n",
       "<table border=\"1\" class=\"dataframe\">\n",
       "  <thead>\n",
       "    <tr style=\"text-align: right;\">\n",
       "      <th></th>\n",
       "      <th>Gender</th>\n",
       "      <th>Birth Year</th>\n",
       "      <th>Year</th>\n",
       "      <th>Month</th>\n",
       "      <th>Average Trip Duration(s)</th>\n",
       "      <th>Average Trip Duration (min)</th>\n",
       "    </tr>\n",
       "  </thead>\n",
       "  <tbody>\n",
       "    <tr>\n",
       "      <th>0</th>\n",
       "      <td>Female</td>\n",
       "      <td>1932.0</td>\n",
       "      <td>2013</td>\n",
       "      <td>7</td>\n",
       "      <td>716.85</td>\n",
       "      <td>11.95</td>\n",
       "    </tr>\n",
       "    <tr>\n",
       "      <th>1</th>\n",
       "      <td>Male</td>\n",
       "      <td>1967.0</td>\n",
       "      <td>2013</td>\n",
       "      <td>7</td>\n",
       "      <td>813.83</td>\n",
       "      <td>13.56</td>\n",
       "    </tr>\n",
       "    <tr>\n",
       "      <th>2</th>\n",
       "      <td>Female</td>\n",
       "      <td>1966.0</td>\n",
       "      <td>2013</td>\n",
       "      <td>7</td>\n",
       "      <td>939.41</td>\n",
       "      <td>15.66</td>\n",
       "    </tr>\n",
       "    <tr>\n",
       "      <th>3</th>\n",
       "      <td>Female</td>\n",
       "      <td>1979.0</td>\n",
       "      <td>2013</td>\n",
       "      <td>7</td>\n",
       "      <td>997.33</td>\n",
       "      <td>16.62</td>\n",
       "    </tr>\n",
       "    <tr>\n",
       "      <th>4</th>\n",
       "      <td>Male</td>\n",
       "      <td>1953.0</td>\n",
       "      <td>2013</td>\n",
       "      <td>7</td>\n",
       "      <td>877.18</td>\n",
       "      <td>14.62</td>\n",
       "    </tr>\n",
       "  </tbody>\n",
       "</table>\n",
       "</div>"
      ],
      "text/plain": [
       "   Gender  Birth Year  Year  Month  Average Trip Duration(s)  \\\n",
       "0  Female      1932.0  2013      7                    716.85   \n",
       "1    Male      1967.0  2013      7                    813.83   \n",
       "2  Female      1966.0  2013      7                    939.41   \n",
       "3  Female      1979.0  2013      7                    997.33   \n",
       "4    Male      1953.0  2013      7                    877.18   \n",
       "\n",
       "   Average Trip Duration (min)  \n",
       "0                        11.95  \n",
       "1                        13.56  \n",
       "2                        15.66  \n",
       "3                        16.62  \n",
       "4                        14.62  "
      ]
     },
     "execution_count": 3,
     "metadata": {},
     "output_type": "execute_result"
    }
   ],
   "source": [
    "import pandas as pd\n",
    "import numpy as np\n",
    "\n",
    "tripdurationdf=pd.read_csv(\"/Users/hildavargas/Desktop/Springboard_Mini_Projects/Capstone_Project/CB_real_metrics/TripDuration.csv\", na_values=[r'\\N'])\n",
    "\n",
    "tripdurationdf\n",
    "\n",
    "# Replace Gender w/ 'Unknown, Male, Female' vs. '0, 1, 2'\n",
    "tripdurationdf.Gender=tripdurationdf.Gender.replace(0, 'Unknown')\n",
    "tripdurationdf.Gender=tripdurationdf.Gender.replace(1, 'Male')\n",
    "tripdurationdf.Gender=tripdurationdf.Gender.replace(2, 'Female')\n",
    "\n",
    "# Replace birth years < 1920 with nulls (see notebook \"Identifying Outliers in Age Range\" for reference)\n",
    "tripdurationdf.ix[tripdurationdf['Birth Year'] < 1920, 'Birth Year'] = np.nan\n",
    "\n",
    "# Create column for Average Trip Duration in Minutes\n",
    "tripdurationdf['Average Trip Duration (min)']=round((tripdurationdf['Average Trip Duration(s)']/60), 2)\n",
    "\n",
    "# Drop rows with nulls (missing birth years and those < 1920)\n",
    "tripdurationdf=tripdurationdf.dropna()\n",
    "tripdurationdf.head()"
   ]
  },
  {
   "cell_type": "code",
   "execution_count": 4,
   "metadata": {
    "collapsed": false,
    "deletable": true,
    "editable": true
   },
   "outputs": [
    {
     "data": {
      "text/html": [
       "<div>\n",
       "<table border=\"1\" class=\"dataframe\">\n",
       "  <thead>\n",
       "    <tr style=\"text-align: right;\">\n",
       "      <th></th>\n",
       "      <th>Gender</th>\n",
       "      <th>Birth Year</th>\n",
       "      <th>Year</th>\n",
       "      <th>Month</th>\n",
       "      <th>Average Trip Duration(s)</th>\n",
       "      <th>Average Trip Duration (min)</th>\n",
       "    </tr>\n",
       "  </thead>\n",
       "  <tbody>\n",
       "    <tr>\n",
       "      <th>0</th>\n",
       "      <td>Female</td>\n",
       "      <td>1932.0</td>\n",
       "      <td>2013</td>\n",
       "      <td>7</td>\n",
       "      <td>716.85</td>\n",
       "      <td>11.95</td>\n",
       "    </tr>\n",
       "    <tr>\n",
       "      <th>1</th>\n",
       "      <td>Male</td>\n",
       "      <td>1967.0</td>\n",
       "      <td>2013</td>\n",
       "      <td>7</td>\n",
       "      <td>813.83</td>\n",
       "      <td>13.56</td>\n",
       "    </tr>\n",
       "    <tr>\n",
       "      <th>2</th>\n",
       "      <td>Female</td>\n",
       "      <td>1966.0</td>\n",
       "      <td>2013</td>\n",
       "      <td>7</td>\n",
       "      <td>939.41</td>\n",
       "      <td>15.66</td>\n",
       "    </tr>\n",
       "    <tr>\n",
       "      <th>3</th>\n",
       "      <td>Female</td>\n",
       "      <td>1979.0</td>\n",
       "      <td>2013</td>\n",
       "      <td>7</td>\n",
       "      <td>997.33</td>\n",
       "      <td>16.62</td>\n",
       "    </tr>\n",
       "    <tr>\n",
       "      <th>4</th>\n",
       "      <td>Male</td>\n",
       "      <td>1953.0</td>\n",
       "      <td>2013</td>\n",
       "      <td>7</td>\n",
       "      <td>877.18</td>\n",
       "      <td>14.62</td>\n",
       "    </tr>\n",
       "  </tbody>\n",
       "</table>\n",
       "</div>"
      ],
      "text/plain": [
       "   Gender  Birth Year  Year  Month  Average Trip Duration(s)  \\\n",
       "0  Female      1932.0  2013      7                    716.85   \n",
       "1    Male      1967.0  2013      7                    813.83   \n",
       "2  Female      1966.0  2013      7                    939.41   \n",
       "3  Female      1979.0  2013      7                    997.33   \n",
       "4    Male      1953.0  2013      7                    877.18   \n",
       "\n",
       "   Average Trip Duration (min)  \n",
       "0                        11.95  \n",
       "1                        13.56  \n",
       "2                        15.66  \n",
       "3                        16.62  \n",
       "4                        14.62  "
      ]
     },
     "execution_count": 4,
     "metadata": {},
     "output_type": "execute_result"
    }
   ],
   "source": [
    "tripdurationdf.head()"
   ]
  },
  {
   "cell_type": "markdown",
   "metadata": {
    "collapsed": false,
    "deletable": true,
    "editable": true
   },
   "source": [
    "#### Create DataFrame with Average Trip Duration (min) for Specific Age Ranges"
   ]
  },
  {
   "cell_type": "code",
   "execution_count": 5,
   "metadata": {
    "collapsed": false,
    "deletable": true,
    "editable": true
   },
   "outputs": [
    {
     "data": {
      "text/html": [
       "<div>\n",
       "<table border=\"1\" class=\"dataframe\">\n",
       "  <thead>\n",
       "    <tr style=\"text-align: right;\">\n",
       "      <th></th>\n",
       "      <th>Age Ranges</th>\n",
       "      <th>Year</th>\n",
       "      <th>Month</th>\n",
       "      <th>Gender</th>\n",
       "      <th>Average Trip Duration (min)</th>\n",
       "    </tr>\n",
       "  </thead>\n",
       "  <tbody>\n",
       "    <tr>\n",
       "      <th>0</th>\n",
       "      <td>(1915, 1925]</td>\n",
       "      <td>2013</td>\n",
       "      <td>1</td>\n",
       "      <td>Female</td>\n",
       "      <td>0.0</td>\n",
       "    </tr>\n",
       "    <tr>\n",
       "      <th>1</th>\n",
       "      <td>(1915, 1925]</td>\n",
       "      <td>2013</td>\n",
       "      <td>1</td>\n",
       "      <td>Male</td>\n",
       "      <td>0.0</td>\n",
       "    </tr>\n",
       "    <tr>\n",
       "      <th>2</th>\n",
       "      <td>(1915, 1925]</td>\n",
       "      <td>2013</td>\n",
       "      <td>1</td>\n",
       "      <td>Unknown</td>\n",
       "      <td>0.0</td>\n",
       "    </tr>\n",
       "    <tr>\n",
       "      <th>3</th>\n",
       "      <td>(1915, 1925]</td>\n",
       "      <td>2013</td>\n",
       "      <td>2</td>\n",
       "      <td>Female</td>\n",
       "      <td>0.0</td>\n",
       "    </tr>\n",
       "    <tr>\n",
       "      <th>4</th>\n",
       "      <td>(1915, 1925]</td>\n",
       "      <td>2013</td>\n",
       "      <td>2</td>\n",
       "      <td>Male</td>\n",
       "      <td>0.0</td>\n",
       "    </tr>\n",
       "  </tbody>\n",
       "</table>\n",
       "</div>"
      ],
      "text/plain": [
       "     Age Ranges  Year  Month   Gender  Average Trip Duration (min)\n",
       "0  (1915, 1925]  2013      1   Female                          0.0\n",
       "1  (1915, 1925]  2013      1     Male                          0.0\n",
       "2  (1915, 1925]  2013      1  Unknown                          0.0\n",
       "3  (1915, 1925]  2013      2   Female                          0.0\n",
       "4  (1915, 1925]  2013      2     Male                          0.0"
      ]
     },
     "execution_count": 5,
     "metadata": {},
     "output_type": "execute_result"
    }
   ],
   "source": [
    "# Find the average trip duration in minutes for age ranges\n",
    "age_ranges=tripdurationdf.copy()\n",
    "\n",
    "# Find unique birth years\n",
    "x=tripdurationdf['Birth Year'].unique()\n",
    "import numpy as np\n",
    "np.sort(x)\n",
    "\n",
    "# Create bins for age ranges based off the birth year values\n",
    "bins=[]\n",
    "for number in range(1915, 2015, 10):\n",
    "   bins.append(number)\n",
    "\n",
    "# Add age ranges column to dataframe\n",
    "age_ranges['Age Ranges']=pd.cut(age_ranges['Birth Year'], precision=0, bins=bins)\n",
    "del age_ranges['Birth Year']\n",
    "age_ranges.sort_values('Age Ranges')\n",
    "\n",
    "# Find the average trip duration for each age range\n",
    "pivot=pd.pivot_table(age_ranges, values='Average Trip Duration (min)', columns=['Age Ranges', 'Year', 'Month', 'Gender'], aggfunc=np.mean)\n",
    "pivot=pivot.fillna(0)\n",
    "pivot=pd.DataFrame(pivot)\n",
    "pivot=pivot.reset_index()\n",
    "pivot.columns=['Age Ranges', 'Year', 'Month', 'Gender','Average Trip Duration (min)']\n",
    "pivot.head()"
   ]
  },
  {
   "cell_type": "code",
   "execution_count": 7,
   "metadata": {
    "collapsed": false,
    "deletable": true,
    "editable": true
   },
   "outputs": [
    {
     "data": {
      "text/html": [
       "<div>\n",
       "<table border=\"1\" class=\"dataframe\">\n",
       "  <thead>\n",
       "    <tr style=\"text-align: right;\">\n",
       "      <th></th>\n",
       "      <th>Age Ranges</th>\n",
       "      <th>Year</th>\n",
       "      <th>Month</th>\n",
       "      <th>Gender</th>\n",
       "      <th>Average Trip Duration (min)</th>\n",
       "      <th>Age Range</th>\n",
       "    </tr>\n",
       "  </thead>\n",
       "  <tbody>\n",
       "    <tr>\n",
       "      <th>0</th>\n",
       "      <td>(1915, 1925]</td>\n",
       "      <td>2013</td>\n",
       "      <td>1</td>\n",
       "      <td>Female</td>\n",
       "      <td>0.0</td>\n",
       "      <td>1916-1925</td>\n",
       "    </tr>\n",
       "    <tr>\n",
       "      <th>1</th>\n",
       "      <td>(1915, 1925]</td>\n",
       "      <td>2013</td>\n",
       "      <td>1</td>\n",
       "      <td>Male</td>\n",
       "      <td>0.0</td>\n",
       "      <td>1916-1925</td>\n",
       "    </tr>\n",
       "    <tr>\n",
       "      <th>2</th>\n",
       "      <td>(1915, 1925]</td>\n",
       "      <td>2013</td>\n",
       "      <td>1</td>\n",
       "      <td>Unknown</td>\n",
       "      <td>0.0</td>\n",
       "      <td>1916-1925</td>\n",
       "    </tr>\n",
       "    <tr>\n",
       "      <th>3</th>\n",
       "      <td>(1915, 1925]</td>\n",
       "      <td>2013</td>\n",
       "      <td>2</td>\n",
       "      <td>Female</td>\n",
       "      <td>0.0</td>\n",
       "      <td>1916-1925</td>\n",
       "    </tr>\n",
       "    <tr>\n",
       "      <th>4</th>\n",
       "      <td>(1915, 1925]</td>\n",
       "      <td>2013</td>\n",
       "      <td>2</td>\n",
       "      <td>Male</td>\n",
       "      <td>0.0</td>\n",
       "      <td>1916-1925</td>\n",
       "    </tr>\n",
       "  </tbody>\n",
       "</table>\n",
       "</div>"
      ],
      "text/plain": [
       "     Age Ranges  Year  Month   Gender  Average Trip Duration (min)  Age Range\n",
       "0  (1915, 1925]  2013      1   Female                          0.0  1916-1925\n",
       "1  (1915, 1925]  2013      1     Male                          0.0  1916-1925\n",
       "2  (1915, 1925]  2013      1  Unknown                          0.0  1916-1925\n",
       "3  (1915, 1925]  2013      2   Female                          0.0  1916-1925\n",
       "4  (1915, 1925]  2013      2     Male                          0.0  1916-1925"
      ]
     },
     "execution_count": 7,
     "metadata": {},
     "output_type": "execute_result"
    }
   ],
   "source": [
    "# Change age ranges to intervals that will be easier to understand in a plot\n",
    "unique_ranges=pivot['Age Ranges'].unique()\n",
    "from collections import defaultdict\n",
    "x=defaultdict(str)\n",
    "\n",
    "for line in unique_ranges:\n",
    "    z=line[1:4]+'6'\n",
    "    d=line[7:11]\n",
    "    result=z+'-'+d\n",
    "    x[line]=result\n",
    "\n",
    "pivot['Age Range']=pivot['Age Ranges'].map(x)\n",
    "pivot.head()"
   ]
  },
  {
   "cell_type": "markdown",
   "metadata": {
    "deletable": true,
    "editable": true
   },
   "source": [
    "#### Create an interactive bar plot with ipywidget and Seaborn to compare the average trip duration based off age group & gender"
   ]
  },
  {
   "cell_type": "code",
   "execution_count": 13,
   "metadata": {
    "collapsed": false,
    "deletable": true,
    "editable": true
   },
   "outputs": [
    {
     "data": {
      "application/vnd.jupyter.widget-view+json": {
       "model_id": "dfeae0aa6e9147a69a627ef492ce61ca"
      }
     },
     "metadata": {},
     "output_type": "display_data"
    },
    {
     "data": {
      "text/plain": [
       "<function __main__.make_plot>"
      ]
     },
     "execution_count": 13,
     "metadata": {},
     "output_type": "execute_result"
    }
   ],
   "source": [
    "from ipywidgets import interact, Layout\n",
    "from ipywidgets.widgets import SelectMultiple\n",
    "import seaborn as sns\n",
    "import matplotlib.pyplot as plt\n",
    "\n",
    "# Create dictionary for new column in dataframe with the actual month name\n",
    "months_name={}\n",
    "months_name[1]='January'\n",
    "months_name[2]=\"February\"\n",
    "months_name[3]= \"March\"\n",
    "months_name[4]=\"April\"\n",
    "months_name[5]=\"May\"\n",
    "months_name[6]=\"June\"\n",
    "months_name[7]=\"July\"\n",
    "months_name[8]=\"August\"\n",
    "months_name[9]=\"September\"\n",
    "months_name[10]=\"October\"\n",
    "months_name[11]=\"November\"\n",
    "months_name[12]=\"December\"\n",
    "\n",
    "df=pivot.copy()\n",
    "df['Month Name']=df[\"Month\"].map(months_name)\n",
    "\n",
    "# Create lists of unique values for months and years for widget\n",
    "months=['January', 'Feburary', 'March', 'April', 'May', 'June', 'July', 'August', 'September', 'October', 'November', 'December']\n",
    "years=sorted(df['Year'].unique().tolist())\n",
    "\n",
    "# Define function for interactive widget\n",
    "def make_plot(Months, Years):\n",
    "    x=list(Months)\n",
    "    z=list(Years)\n",
    "    gooddata=df.loc[(df['Month Name'].isin(x)) & df['Year'].isin(Years)].sort_values(by='Age Range')\n",
    "    sns.set_style(\"whitegrid\")\n",
    "    plot=sns.barplot('Age Range', 'Average Trip Duration (min)', hue='Gender', data=gooddata, ci=None)\n",
    "    title=plt.title(\"Average Trip Duration by Age Range, Grouped by Gender\", fontsize=16, fontweight=\"bold\")\n",
    "    title.set_position([.5, 1.05])\n",
    "    plt.ylabel('Average Trip Duration (min)')\n",
    "    plt.legend(loc=1)\n",
    "    for item in plot.get_xticklabels():\n",
    "        item.set_rotation(40)\n",
    "    for tick in plot.xaxis.get_major_ticks():\n",
    "                tick.label.set_fontsize(12)\n",
    "    for tick in plot.yaxis.get_major_ticks():\n",
    "                tick.label.set_fontsize(12)\n",
    "    plot.yaxis.label.set_size(14)\n",
    "    plot.xaxis.label.set_size(14)\n",
    "    plot.xaxis.labelpad = 20\n",
    "    plot.yaxis.labelpad = 20\n",
    "    plt.show()\n",
    "    \n",
    "interact(make_plot, Months=SelectMultiple(options=months, value=['July']), Years=SelectMultiple(options=years, value=[2013]))"
   ]
  }
 ],
 "metadata": {
  "anaconda-cloud": {},
  "kernelspec": {
   "display_name": "Python [conda root]",
   "language": "python",
   "name": "conda-root-py"
  },
  "language_info": {
   "codemirror_mode": {
    "name": "ipython",
    "version": 3
   },
   "file_extension": ".py",
   "mimetype": "text/x-python",
   "name": "python",
   "nbconvert_exporter": "python",
   "pygments_lexer": "ipython3",
   "version": "3.5.2"
  }
 },
 "nbformat": 4,
 "nbformat_minor": 1
}
