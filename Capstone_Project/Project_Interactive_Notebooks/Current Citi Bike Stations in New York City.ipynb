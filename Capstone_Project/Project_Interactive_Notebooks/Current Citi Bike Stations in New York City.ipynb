{
 "cells": [
  {
   "cell_type": "markdown",
   "metadata": {
    "deletable": true,
    "editable": true
   },
   "source": [
    "### Estimation of Current Stations\n",
    "\n",
    "Because the data is only through December 2016, this is an approximation of the number of current stations and their locations."
   ]
  },
  {
   "cell_type": "markdown",
   "metadata": {
    "deletable": true,
    "editable": true
   },
   "source": [
    "#### Create a CSV file with the four columns we need (start station name, start station latitude, start station longitude) from the file containing data from December 2016"
   ]
  },
  {
   "cell_type": "code",
   "execution_count": null,
   "metadata": {
    "collapsed": true,
    "deletable": true,
    "editable": true
   },
   "outputs": [],
   "source": [
    "import pandas as pd\n",
    "import csv\n",
    "\n",
    "path=\"/Users/hildavargas/Desktop/Springboard_Mini_Projects/Capstone_Project/CitiBike_Data/2016-12-citibike-tripdata.csv\"\n",
    "\n",
    "csv_r=reader(open(path, \"r\"), delimiter=\",\")\n",
    "\n",
    "stations=[]\n",
    "\n",
    "next(csv_r)\n",
    "\n",
    "for row in csv_r:\n",
    "# Append station ID, station name, latitude, longitude\n",
    "    stations.append((row[3], row[4], row[5], row[6]))\n",
    "\n",
    "# Remove duplicates\n",
    "current_stations=set(stations)\n",
    "\n",
    "with open(\"/Users/hildavargas/Desktop/Springboard_Mini_Projects/Capstone_Project/CB_real_metrics/StationsAsofDec2016.csv\", \"w\") as out:\n",
    "    csv_o=csv.writer(out, delimiter=',')\n",
    "        \n",
    "    fieldnames=['Start Station ID','Start Station Name', 'Start Station Latitude', 'Start Station Longitude']\n",
    "        \n",
    "    csv_o.writerow(fieldnames)\n",
    "    \n",
    "    for row in current_stations:\n",
    "        csv_o.writerow(row)"
   ]
  },
  {
   "cell_type": "code",
   "execution_count": null,
   "metadata": {
    "collapsed": false,
    "deletable": true,
    "editable": true
   },
   "outputs": [
    {
     "data": {
      "text/html": [
       "<div>\n",
       "<table border=\"1\" class=\"dataframe\">\n",
       "  <thead>\n",
       "    <tr style=\"text-align: right;\">\n",
       "      <th></th>\n",
       "      <th>Start Station ID</th>\n",
       "      <th>Start Station Name</th>\n",
       "      <th>Start Station Latitude</th>\n",
       "      <th>Start Station Longitude</th>\n",
       "    </tr>\n",
       "  </thead>\n",
       "  <tbody>\n",
       "    <tr>\n",
       "      <th>0</th>\n",
       "      <td>2004</td>\n",
       "      <td>6 Ave &amp; Broome St</td>\n",
       "      <td>40.724399</td>\n",
       "      <td>-74.004704</td>\n",
       "    </tr>\n",
       "    <tr>\n",
       "      <th>1</th>\n",
       "      <td>3331</td>\n",
       "      <td>Riverside Dr &amp; W 104 St</td>\n",
       "      <td>40.801343</td>\n",
       "      <td>-73.971146</td>\n",
       "    </tr>\n",
       "    <tr>\n",
       "      <th>2</th>\n",
       "      <td>522</td>\n",
       "      <td>E 51 St &amp; Lexington Ave</td>\n",
       "      <td>40.757148</td>\n",
       "      <td>-73.972078</td>\n",
       "    </tr>\n",
       "    <tr>\n",
       "      <th>3</th>\n",
       "      <td>418</td>\n",
       "      <td>Front St &amp; Gold St</td>\n",
       "      <td>40.702240</td>\n",
       "      <td>-73.982578</td>\n",
       "    </tr>\n",
       "    <tr>\n",
       "      <th>4</th>\n",
       "      <td>467</td>\n",
       "      <td>Dean St &amp; 4 Ave</td>\n",
       "      <td>40.683125</td>\n",
       "      <td>-73.978951</td>\n",
       "    </tr>\n",
       "  </tbody>\n",
       "</table>\n",
       "</div>"
      ],
      "text/plain": [
       "   Start Station ID       Start Station Name  Start Station Latitude  \\\n",
       "0              2004        6 Ave & Broome St               40.724399   \n",
       "1              3331  Riverside Dr & W 104 St               40.801343   \n",
       "2               522  E 51 St & Lexington Ave               40.757148   \n",
       "3               418       Front St & Gold St               40.702240   \n",
       "4               467          Dean St & 4 Ave               40.683125   \n",
       "\n",
       "   Start Station Longitude  \n",
       "0               -74.004704  \n",
       "1               -73.971146  \n",
       "2               -73.972078  \n",
       "3               -73.982578  \n",
       "4               -73.978951  "
      ]
     },
     "execution_count": 5,
     "metadata": {},
     "output_type": "execute_result"
    }
   ],
   "source": [
    "import pandas as pd\n",
    "# Read new CSV as dataframe\n",
    "current_stationsdf=pd.read_csv(\"/Users/hildavargas/Desktop/Springboard_Mini_Projects/Capstone_Project/CB_real_metrics/StationsAsofDec2016.csv\")\n",
    "current_stationsdf.head()"
   ]
  },
  {
   "cell_type": "markdown",
   "metadata": {
    "deletable": true,
    "editable": true
   },
   "source": [
    "#### Create an interactive map of the December 2016 stations with Folium"
   ]
  },
  {
   "cell_type": "code",
   "execution_count": null,
   "metadata": {
    "collapsed": false,
    "deletable": true,
    "editable": true
   },
   "outputs": [],
   "source": [
    "import folium\n",
    "\n",
    "nyc_map=folium.Map(location=[40.756, -73.982], zoom_start=11.9, min_zoom=10, tiles='cartodbdark_matter')\n",
    "for row in current_stationsdf.itertuples():\n",
    "    folium.RegularPolygonMarker([row[3], row[4]], popup=row[2], radius=4).add_to(nyc_map)\n",
    "    \n",
    "nyc_map"
   ]
  },
  {
   "cell_type": "code",
   "execution_count": null,
   "metadata": {
    "collapsed": true
   },
   "outputs": [],
   "source": []
  }
 ],
 "metadata": {
  "anaconda-cloud": {},
  "kernelspec": {
   "display_name": "Python [conda root]",
   "language": "python",
   "name": "conda-root-py"
  }
 },
 "nbformat": 4,
 "nbformat_minor": 1
}
