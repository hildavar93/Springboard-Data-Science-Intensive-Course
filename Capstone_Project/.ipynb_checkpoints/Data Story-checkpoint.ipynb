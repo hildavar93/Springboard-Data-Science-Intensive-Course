{
 "cells": [
  {
   "cell_type": "markdown",
   "metadata": {},
   "source": [
    "<h1><center> Data Story Mini Project </center></h1>"
   ]
  },
  {
   "cell_type": "markdown",
   "metadata": {},
   "source": [
    "\n",
    "###  1. Pick a dataset\n",
    "\n",
    "The dataset I will be using for this project and my Capstone Project comes from Citi Bike.\n",
    "<p> https://www.citibikenyc.com/system-data </p>"
   ]
  },
  {
   "cell_type": "markdown",
   "metadata": {},
   "source": [
    "### 2. Can you count something interesting?"
   ]
  },
  {
   "cell_type": "markdown",
   "metadata": {},
   "source": [
    "<b>10 Most Popular Citi Bike Stations of All Time:</b>\n",
    "\n",
    "E 17 St & Broadway               \n",
    "W 21 St & 6 Ave                  \n",
    "Lafayette St & E 8 St            \n",
    "Broadway & E 14 St               \n",
    "8 Ave & W 31 St                  "
   ]
  },
  {
   "cell_type": "code",
   "execution_count": 9,
   "metadata": {
    "collapsed": false
   },
   "outputs": [
    {
     "data": {
      "text/plain": [
       "E 17 St & Broadway       41\n",
       "W 21 St & 6 Ave          40\n",
       "Lafayette St & E 8 St    36\n",
       "Broadway & E 14 St       32\n",
       "8 Ave & W 31 St          28\n",
       "Name: start station name, dtype: int64"
      ]
     },
     "execution_count": 9,
     "metadata": {},
     "output_type": "execute_result"
    }
   ],
   "source": [
    "import pandas as pd\n",
    "stations=pd.read_csv(\"/Users/hildavargas/Desktop/Springboard_Mini_Projects/Capstone_Project/CB_real_metrics/10MostPopularStations.csv\")\n",
    "stations['start station name'].value_counts().head()"
   ]
  },
  {
   "cell_type": "markdown",
   "metadata": {},
   "source": [
    "<b> Approximation of Current Number of Citi Bike Stations (Based off of the Most Recent Data Available - December 2016)</b>\n",
    "\n",
    "609 stations"
   ]
  },
  {
   "cell_type": "code",
   "execution_count": 15,
   "metadata": {
    "collapsed": false
   },
   "outputs": [
    {
     "data": {
      "text/plain": [
       "609"
      ]
     },
     "execution_count": 15,
     "metadata": {},
     "output_type": "execute_result"
    }
   ],
   "source": [
    "december2016=pd.read_csv(\"/Users/hildavargas/Desktop/Springboard_Mini_Projects/Capstone_Project/CitiBike_Data/2016-12-citibike-tripdata.csv\")\n",
    "december2016['Start Station ID'].nunique()"
   ]
  },
  {
   "cell_type": "markdown",
   "metadata": {},
   "source": [
    "<b> Number of Rides Taken by Women</b>\n",
    "\n",
    "7,677,397 rides"
   ]
  },
  {
   "cell_type": "code",
   "execution_count": 26,
   "metadata": {
    "collapsed": false
   },
   "outputs": [
    {
     "data": {
      "text/plain": [
       "7677397"
      ]
     },
     "execution_count": 26,
     "metadata": {},
     "output_type": "execute_result"
    }
   ],
   "source": [
    "import numpy as np\n",
    "# Null values written as \"/N\" -- replace with nulls\n",
    "peopledf=pd.read_csv(\"/Users/hildavargas/Desktop/Springboard_Mini_Projects/Capstone_Project/CB_real_metrics/PeopleGenderAge.csv\", na_values=[r'\\N'])\n",
    "\n",
    "# Replace Gender w/ 'NA, M, F' vs. '0, 1, 2'\n",
    "peopledf.Gender=peopledf.Gender.replace(0, np.nan)\n",
    "peopledf.Gender=peopledf.Gender.replace(1, 'M')\n",
    "peopledf.Gender=peopledf.Gender.replace(2, 'F')\n",
    "\n",
    "# Drop rows with nulls\n",
    "peopledf=peopledf.dropna()\n",
    "peopledf.head()\n",
    "\n",
    "women=peopledf[peopledf['Gender'] == 'F']\n",
    "women['Number of People'].sum()"
   ]
  },
  {
   "cell_type": "markdown",
   "metadata": {},
   "source": [
    "<b> Number of Rides Taken by Men</b>\n",
    "<p> 24,818,126 rides </p>"
   ]
  },
  {
   "cell_type": "code",
   "execution_count": 25,
   "metadata": {
    "collapsed": false
   },
   "outputs": [
    {
     "data": {
      "text/plain": [
       "24818126"
      ]
     },
     "execution_count": 25,
     "metadata": {},
     "output_type": "execute_result"
    }
   ],
   "source": [
    "men=peopledf[peopledf['Gender'] == 'M']\n",
    "men['Number of People'].sum()"
   ]
  },
  {
   "cell_type": "markdown",
   "metadata": {},
   "source": [
    "### 3.  Can you find some trends (high, low, increase, decrease, anomalies)?"
   ]
  },
  {
   "cell_type": "markdown",
   "metadata": {},
   "source": [
    "### 4. Can you make a bar plot or a histogram?"
   ]
  },
  {
   "cell_type": "markdown",
   "metadata": {},
   "source": [
    "<b>Number of Rides Taken by Men vs. Number of Rides Taken by Women</b>"
   ]
  },
  {
   "cell_type": "code",
   "execution_count": 65,
   "metadata": {
    "collapsed": false
   },
   "outputs": [
    {
     "data": {
      "image/png": "[encoded data removed]",
      "text/plain": [
       "<matplotlib.figure.Figure at 0x11116f828>"
      ]
     },
     "metadata": {},
     "output_type": "display_data"
    }
   ],
   "source": [
    "import matplotlib.pyplot as plt\n",
    "import numpy as np\n",
    "\n",
    "plt.axis([0,4, 0, 30000000])\n",
    "p1 = plt.Rectangle((0, 0), 0.1, 0.1, fc=\"crimson\")\n",
    "p2 = plt.Rectangle((0, 0), 0.1, 0.1, fc=\"#3a718b\")\n",
    "\n",
    "plt.legend((p1, p2), ('women','men'), loc='upper left')\n",
    "labels = ['                      Women', '                    Men',]\n",
    "\n",
    "x = np.array([0,1]) + 1\n",
    "\n",
    "y = np.array([7677397, 24818126])\n",
    "\n",
    "plt.xticks(x, labels)\n",
    "\n",
    "plt.bar(left = x, height=y, color=['crimson', '#3a718b'])\n",
    "\n",
    "plt.grid(which='both')\n",
    "plt.ylabel('Number of Rides')\n",
    "plt.xlabel('Gender')\n",
    "plt.title(\"Number of Rides Taken by Men and Women\")\n",
    "plt.show()"
   ]
  },
  {
   "cell_type": "code",
   "execution_count": null,
   "metadata": {
    "collapsed": false
   },
   "outputs": [],
   "source": []
  },
  {
   "cell_type": "markdown",
   "metadata": {},
   "source": [
    "### 5. Can you compare two related quantities?"
   ]
  },
  {
   "cell_type": "markdown",
   "metadata": {},
   "source": [
    "### 6. Can you make a scatterplot?"
   ]
  },
  {
   "cell_type": "markdown",
   "metadata": {},
   "source": [
    "### 7. Can you make a time-series plot?"
   ]
  },
  {
   "cell_type": "markdown",
   "metadata": {},
   "source": [
    "#### Having made these plots, what are some insights you get from them? Do you see any correlations? Is there a hypothesis you would like to investigate further? What other questions do they lead you to ask?"
   ]
  },
  {
   "cell_type": "markdown",
   "metadata": {},
   "source": [
    "#### By now you’ve asked a bunch of questions, and found some neat insights. Is there an interesting narrative, a way of presenting the insights using text and plots from the above, that tells a compelling story? As you work out this story, what are some other trends/relationships you think will make it more complete?"
   ]
  },
  {
   "cell_type": "markdown",
   "metadata": {},
   "source": []
  },
  {
   "cell_type": "markdown",
   "metadata": {},
   "source": []
  },
  {
   "cell_type": "markdown",
   "metadata": {},
   "source": [
    "Where is Citi Bike?\n",
    "* 5 Most Popular Citi Bike Stations (Start and End) x\n",
    "* 5 Least Popular Citi Bike Stations (Start and End) x\n",
    "* Number of Citi Bike Locations Historically x \n",
    "\n",
    "When do Customers use Citi Bike?\n",
    "* 5 Most Popular Times to use Citi Bike (Daily and Yearly)\n",
    "* 5 Least Popular Times to use Citi Bike (Daily and Yearly)\n",
    "* Number of Citi Bike Rides per Year\n",
    "\n",
    "Who uses Citi Bike?\n",
    "* Number of Rides Taken by Users of Each Type (Customer vs. Subscriber)\n",
    "* Number of Rides Taken by Male Citi Bike Users x\n",
    "* Number of Rides Taken by Female Citi Bike Users x\n",
    "\n",
    "Interesting Trends to Consider (Time-Series Plots!):\n",
    "* The Number of Users of Each Type (How have the Number of Each Changed Over Time?)\n",
    "* How has the use of each station changed over time?\n",
    "* How do number of male and female users change over time?\n",
    "* What are the most and least popular times of the year to use Citi Bike?\n",
    "* Citi Bike Demographics - how old are Citi Bike users?\n",
    "* Average trip time\n",
    "\n",
    "Note: There have been 1,648,855 Citi Bike rides taken since its inception in 2013 (there are 1,648,855 rows in the dataset, one for each trip). Because the dataset does not offer a unique identifier for each user, I will be looking at the percentages of rides taken by different types of Citi Bike customers."
   ]
  },
  {
   "cell_type": "code",
   "execution_count": null,
   "metadata": {
    "collapsed": true
   },
   "outputs": [],
   "source": []
  }
 ],
 "metadata": {
  "anaconda-cloud": {},
  "kernelspec": {
   "display_name": "Python [conda root]",
   "language": "python",
   "name": "conda-root-py"
  },
  "language_info": {
   "codemirror_mode": {
    "name": "ipython",
    "version": 3
   },
   "file_extension": ".py",
   "mimetype": "text/x-python",
   "name": "python",
   "nbconvert_exporter": "python",
   "pygments_lexer": "ipython3",
   "version": "3.5.2"
  }
 },
 "nbformat": 4,
 "nbformat_minor": 1
}
