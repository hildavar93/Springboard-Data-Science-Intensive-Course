{
 "cells": [
  {
   "cell_type": "markdown",
   "metadata": {},
   "source": [
    "## Capstone Report"
   ]
  },
  {
   "cell_type": "markdown",
   "metadata": {},
   "source": [
    "### Capstone Project Data Attributes, Questions, and Approach"
   ]
  },
  {
   "cell_type": "markdown",
   "metadata": {},
   "source": [
    "#### Attributes of the Data:\n",
    "\n",
    "- trip duration (s)\n",
    "- start time and date\n",
    "- stop time and date\n",
    "- start station name\n",
    "- end station name\n",
    "- station ID\n",
    "- station Lat/Long\n",
    "- Bike ID\n",
    "- User Type (Customer = 24-hour pass or 7-day pass user; Subscriber=Annual)\n",
    "- Gender (0 = Unknown, 1 = male, 2 = female\n",
    "- Year of Birth\n",
    "- Removed test trips by staff and trips below 60 s (false starts or users trying to redock bike for security)\n",
    "- Mileage estimates are calculated using an assumed speed of 7.456 miles per hour, up to hours. Trips over two hours max out at 14.9 miles\n",
    "- Spans from July 2013 (earliest) to January 2017"
   ]
  },
  {
   "cell_type": "markdown",
   "metadata": {},
   "source": [
    "#### Interesting Questions to Answer:\n",
    "- Who rides Citi Bike? What are the demographics like? -- could maybe tie with the census\n",
    "- What are Citi Bike's underserved areas? In terms of the most popular routes taken and decreasing bike congestion, which would we be the best location for a new Citi Bike location? (I could break up the map into cells and predict traffic for each cell to see which areas seem underserved)\n",
    "    - Everyone uses Google maps bike routes is the assumption\n",
    "- What are the most popular times in which Citi Bike is used?\n",
    "- What are the most popular stations and why?\n",
    "- Predict the trip duration based off of gender and year of birth\n",
    "- What is the impact of weather on ridership?\n",
    "- NYC Trips Between Manhattan and other boroughs and vise versa\n",
    "- Using google maps bike estimates - linear regression model of difference in actual-estimate to see coefficients of gender, age, and distance of trip\n",
    "- How to best manage the demand of bikes at each station -- \"magical transport\" (manual moving of bikes - which bikes started at a different station than the drop off)\n",
    "- Modeling ridership at the individual station level?\n",
    "- Comparing Citi Bike data with w/ taxi and Uber data: neighborhoods w/ highest and lowest ratios of Citi Bike rides compared to taxi trips? Commutes where it’s faster to take a Citi Bike than a taxi during rush hour traffic?\n",
    "\n",
    "http://toddwschneider.com/posts/a-tale-of-twenty-two-million-citi-bikes-analyzing-the-nyc-bike-share-system/"
   ]
  },
  {
   "cell_type": "markdown",
   "metadata": {
    "collapsed": true
   },
   "source": [
    "#### Executing the Vision\n",
    "- plotly API https://plot.ly/python/\n",
    "- CartoDB for maps https://plot.ly/ipython-notebooks/cartodb/\n",
    "- http://gis.stackexchange.com/questions/94982/what-is-the-simplest-way-to-write-data-to-cartodb-using-python\n",
    "- https://blog.modeanalytics.com/python-data-visualization-libraries/\n",
    "- http://bokeh.pydata.org/en/latest/docs/gallery/texas.html (map)\n",
    "- https://demo.bokehplots.com/apps/movies (widgets)\n",
    "- https://plot.ly/ipython-notebooks/cartodb/ CartoDB\n",
    "- http://blog.plot.ly/post/128662310992/analyze-data-five-ways-you-can-make-interactive\n",
    "- http://bokeh.pydata.org/en/latest/docs/user_guide/setup.html#userguide-setup\n",
    "- http://bokeh.pydata.org/en/latest/docs/user_guide/geo.html (GeoData)\n",
    "- https://blog.dominodatalab.com/creating-interactive-crime-maps-with-folium/\n",
    "- https://www.machinalis.com/blog/embedding-interactive-maps-into-an-ipython-nb/ ******"
   ]
  },
  {
   "cell_type": "markdown",
   "metadata": {},
   "source": [
    "### What is the impact of weather on ridership?\n",
    "1. Find weather data\n",
    "2. Figure out which weather metric I want to use\n",
    "3. Add the data to the files"
   ]
  },
  {
   "cell_type": "code",
   "execution_count": null,
   "metadata": {
    "collapsed": true
   },
   "outputs": [],
   "source": []
  }
 ],
 "metadata": {
  "anaconda-cloud": {},
  "kernelspec": {
   "display_name": "Python [conda root]",
   "language": "python",
   "name": "conda-root-py"
  },
  "language_info": {
   "codemirror_mode": {
    "name": "ipython",
    "version": 3
   },
   "file_extension": ".py",
   "mimetype": "text/x-python",
   "name": "python",
   "nbconvert_exporter": "python",
   "pygments_lexer": "ipython3",
   "version": "3.5.2"
  }
 },
 "nbformat": 4,
 "nbformat_minor": 1
}
