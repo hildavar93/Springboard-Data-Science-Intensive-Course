{
 "cells": [
  {
   "cell_type": "markdown",
   "metadata": {},
   "source": [
    "<h1><center>Capstone Project Proposal</center></h1>"
   ]
  },
  {
   "cell_type": "markdown",
   "metadata": {},
   "source": [
    "### What is the problem you want to solve?"
   ]
  },
  {
   "cell_type": "markdown",
   "metadata": {},
   "source": [
    "### Who is your client and why do they care about this problem? In other words, what will your client DO or DECIDE based on your analysis that they wouldn’t have otherwise?"
   ]
  },
  {
   "cell_type": "markdown",
   "metadata": {},
   "source": [
    "### What data are you going to use for this? How will you acquire this data?\n",
    "\n",
    "For questions 1-5, I will use the system data provided by Citi Bike. The data includes:\n",
    "\n",
    "- Trip Duration (seconds)\n",
    "- Start Time and Date\n",
    "- Stop Time and Date\n",
    "- Start Station Name\n",
    "- End Station Name\n",
    "- Station ID\n",
    "- Station Lat/Long\n",
    "- Bike ID\n",
    "- User Type (Customer = 24-hour pass or 7-day pass user; Subscriber = Annual Member)\n",
    "- Gender (Zero=unknown; 1=male; 2=female)\n",
    "- Year of Birth\n",
    "\n",
    "For question 6, I will include weather data from the NOAA (National Oceanic and Atmospheric Administration), which is a government agency that conducts environmental research. \n",
    "\n",
    "https://www.citibikenyc.com/system-data\n",
    "<p>https://www.ncdc.noaa.gov/cdo-web/datasets"
   ]
  },
  {
   "cell_type": "markdown",
   "metadata": {},
   "source": [
    "### In brief, outline your approach to solving this problem (knowing that this might change later).\n",
    "\n",
    "My dataset is very large (30 million+ rows, one for each Citi Bike trip taken) and broken up into 40+ separate files (each file has data over a specific month and year). Unfortunately, Citi Bike has not uploaded data for 2017, so the data only includes rides taken through December 31st, 2016. For question 1, I will use the data from December of 2016 to approximate the current number of stations and their locations. \n",
    "\n",
    "Because the dataset is so large, I plan on creating new CSV files for questions 2-5, one for each question, with the answers to those questions. For example, for question 2, I will loop through the 40+ separate files and send the 10 most popular stations with their name, station id, longitude, and latitude for a given month and year to one CSV. I will also include one column in the CSV for the month and year over which the stations were popular.\n",
    "\n",
    "For question 6, I will first need to figure out how I want to measure \"impact\" of ridership. My first inclination is to measure the impact by a percentage drop in the number of rides, but I will need to figure out what threshold I want to use. Additionally, I will need to add a column to each of the 40+ CSV files with the average weather for each date included in the files. Next, I will compare the average "
   ]
  },
  {
   "cell_type": "markdown",
   "metadata": {},
   "source": [
    "### What are your deliverables? Typically, this would include code, along with a paper and/or a slide deck."
   ]
  },
  {
   "cell_type": "code",
   "execution_count": null,
   "metadata": {
    "collapsed": true
   },
   "outputs": [],
   "source": []
  }
 ],
 "metadata": {
  "anaconda-cloud": {},
  "kernelspec": {
   "display_name": "Python [conda root]",
   "language": "python",
   "name": "conda-root-py"
  },
  "language_info": {
   "codemirror_mode": {
    "name": "ipython",
    "version": 3
   },
   "file_extension": ".py",
   "mimetype": "text/x-python",
   "name": "python",
   "nbconvert_exporter": "python",
   "pygments_lexer": "ipython3",
   "version": "3.5.2"
  }
 },
 "nbformat": 4,
 "nbformat_minor": 1
}
