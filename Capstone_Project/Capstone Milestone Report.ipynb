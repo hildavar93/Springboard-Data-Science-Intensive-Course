{
 "cells": [
  {
   "cell_type": "markdown",
   "metadata": {},
   "source": [
    "<h1 align=\"center\">Capstone Milestone Report</h1> \n"
   ]
  },
  {
   "cell_type": "markdown",
   "metadata": {},
   "source": []
  },
  {
   "cell_type": "markdown",
   "metadata": {},
   "source": [
    "### What is the problem?\n",
    "\n",
    "For my Capstone project, I would like to answer the question \"What is Citi Bike?\" The questions that I would answer as part of the larger question are:\n",
    "\n",
    "1. Where are Citi Bike stations located in New York City?\n",
    "2.  What are the 10 most popular stations? \n",
    "3. What are the number of trips taken by age range and gender?\n",
    "4. What is the average trip duration based off age and gender?\n",
    "5. What are the most popular times for Citi Bike use? \n",
    "\n",
    "The answers to questions 2-5 will be different depending on the time period that will be chosen by the client. This will allow the client to see how the answers have changed historically."
   ]
  },
  {
   "cell_type": "markdown",
   "metadata": {},
   "source": [
    "### Who is your client?\n",
    "\n",
    "The client for the problem is Citi Bike's marketing team, and they could use my analysis to drive their advertising decisions. My project could also act as a marketing artifact that could be used by Citi Bike's business development team for potential partnerships with other companies.\n",
    "\n",
    "\n",
    "The client would be interested in the current locations of Citi Bike's stations and the 10 most popular stations for a specific month and/or year for advertising purposes. This information would allow the client to visually see the areas most rides are started so that they can increase Citi Bike advertising in other areas. Additionally, because the data will change depending on the chosen date range, the client will be able to check for changes in the most popular stations over time.\n",
    "\n",
    "The average trip duration and number of trips taken by age and gender could inform the client's decisions for the content in their advertisements. For example, if the marketing department knows that nearly all of their male uers between the ages of 30-40 took trips of about 50 minutes on average, they could advertise a specific subscription to people in that demographic. Additionally, with historical data about the number of trips taken by people of a specific age and gender, they can see which age groups and/or genders they should target in their advertisements to increase ridership.\n",
    "\n",
    "Finally, for the last question relating to the most popular times for Citi Bike use, if the client knows the most popular times for Citi Bike rides, they can use this information in their advertising campaigns by providing promotional events during those times or times when there are fewer people taking rides to increase ridership."
   ]
  },
  {
   "cell_type": "markdown",
   "metadata": {},
   "source": [
    "### A deeper dive into the data set:\n",
    "#### 1. What important fields and information does the data set have?\n",
    "- Trip Duration (seconds)\n",
    "- Start Time and Date\n",
    "- Stop Time and Date\n",
    "- Start Station Name\n",
    "- End Station Name\n",
    "- Station ID\n",
    "- Station Lat/Long\n",
    "- Bike ID\n",
    "- User Type (Customer = 24-hour pass or 7-day pass user; Subscriber = Annual Member)\n",
    "- Gender (Zero=unknown; 1=male; 2=female)\n",
    "- Year of Birth"
   ]
  },
  {
   "cell_type": "markdown",
   "metadata": {},
   "source": [
    "#### 2. What are its limitations i.e. what are some questions that you cannot answer with this data set?\n",
    "\n",
    "One question that I cannot answer with this dataset is the number of people who use Citi Bike because there is no unique identifier for each Citi Bike user due to privacy protections. Due to this limitation, I also cannot answer additional questions that pertain to the demographics of the users such as the average age of Citi Bike users or the number of Citi Bike users who are female, male, of a specific age etc.\n",
    "\n",
    "Another limitation exists in the fact that Citi Bike does not offer any information on the route taken for each trip, most likey due to privacy concerns. A question that could be answered from this data relates to the most popular routes taken. If we knew the most popular routes taken, Citi Bike's marketing team could market Citi Bike to non-users along the route."
   ]
  },
  {
   "cell_type": "markdown",
   "metadata": {},
   "source": [
    "#### 3. What kind of cleaning and wrangling did you need to do?\n",
    "\n",
    "<p><b>Wrangling:</b></p>\n",
    "<p>My dataset is very large (30 million+ rows, one for each Citi Bike trip taken) and broken up into 40+ separate files (each file has data over a specific month and year). Because the dataset is so large, I created new CSV files for questions 2-5, one for each question, with the answers to those questions. For example, for question 2, I looped through the 40+ separate files and sent the 10 most popular stations with their name, station id, longitude, and latitude for a given month and year to one CSV. I also included one column in the CSV for the month and year over which the stations were popular. I repeated this process for the following questions, resulting in four new CSV files that did not require much computer memory to read as dataframes. </p>\n",
    "\n",
    "<p><b>Cleaning:</b></p>\n",
    "<p> The field requiring data cleaning had information about the users' birth year because it included values of '\\N' for those who declined to provide their birth year. I replaced the '\\N''s with null values and dropped the rows that contained the null values. Additionally, there are some clear cases in which users entered fake birth years (between 1885-1900), and I fixed this by identifying the outliers in the users' birth years and eliminating them from the dataset.</p>\n"
   ]
  },
  {
   "cell_type": "markdown",
   "metadata": {},
   "source": [
    "#### 4. Are there other datasets you can find, use and combine with, to answer the questions that matter?\n",
    "\n",
    "One question that definitely matters is about other demographics pertaining to Citi Bike users such as income. In order to obtain this information, I would have to combine the data provided by Citi Bike with information such as census data. "
   ]
  },
  {
   "cell_type": "markdown",
   "metadata": {},
   "source": [
    "### Any preliminary exploration you’ve performed and your initial findings. Test the hypotheses one at a time. Often, the data story emerges as a result of a sequence of testing hypothesis e.g. You first tested if X was true, and because it wasn't, you tried Y, which turned out to be true.\n",
    "\n",
    "\n",
    "Because I am creating a marketing artifiact, the answer to my problem does not require hypothesis testing. I'm primarily creating an infographic with statistics that can be used by Citi Bike's marketing team to drive advertising decisions."
   ]
  },
  {
   "cell_type": "markdown",
   "metadata": {},
   "source": [
    "### Based on these findings, what approach are you going to take? How has your approach changed from what you initially proposed, if applicable?\n",
    "\n",
    "My approach has changed because in the very beginning, I attempted to concatenate all of my 40+ CSV files into one dataframe, which crashed my computer several times due to the amount of memory that was used when I tried to do that. After speaking with my mentor, AJ, I decided that the best way to approach the problem is to do what I have since done, which is looping through the 40 files, finding the answers to each of the questions I pose in the problem, and sending the results to another CSV file, creating one new CSV file for each question with its answers."
   ]
  }
 ],
 "metadata": {
  "anaconda-cloud": {},
  "kernelspec": {
   "display_name": "Python [conda root]",
   "language": "python",
   "name": "conda-root-py"
  },
  "language_info": {
   "codemirror_mode": {
    "name": "ipython",
    "version": 3
   },
   "file_extension": ".py",
   "mimetype": "text/x-python",
   "name": "python",
   "nbconvert_exporter": "python",
   "pygments_lexer": "ipython3",
   "version": "3.5.2"
  }
 },
 "nbformat": 4,
 "nbformat_minor": 1
}
