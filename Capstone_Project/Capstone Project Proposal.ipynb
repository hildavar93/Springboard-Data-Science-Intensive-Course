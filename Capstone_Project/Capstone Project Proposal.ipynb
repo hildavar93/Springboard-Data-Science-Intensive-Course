{
 "cells": [
  {
   "cell_type": "markdown",
   "metadata": {},
   "source": [
    "<h1><center>Capstone Project Proposal</center></h1>"
   ]
  },
  {
   "cell_type": "markdown",
   "metadata": {},
   "source": [
    "### What is the problem you want to solve?\n",
    "\n",
    "For my Capstone project, I would like to answer the question \"What is Citi Bike?\" The questions that I would answer as part of the larger question are:\n",
    "\n",
    "1. Where are Citi Bike stations located in New York City?\n",
    "2.  What are the 10 most popular stations? \n",
    "3. What are the number of trips taken by age range and gender?\n",
    "4. What is the average trip duration based off age and gender?\n",
    "5. What are the most popular times for Citi Bike use? \n",
    "\n",
    "The answers to questions 2-5 will be different depending on the time period that will be chosen by the client. This will allow the client to see how the answers have changed historically."
   ]
  },
  {
   "cell_type": "markdown",
   "metadata": {},
   "source": [
    "### Who is your client and why do they care about this problem? In other words, what will your client DO or DECIDE based on your analysis that they wouldn’t have otherwise?\n",
    "\n",
    "The client for the problem is Citi Bike's marketing team, and they could use my analysis to drive their advertising decisions. My project could also act as a marketing artifact that could be used by Citi Bike's business development team for potential partnerships with other companies.\n",
    "\n",
    "\n",
    "The client would be interested in the current locations of Citi Bike's stations and the 10 most popular stations for a specific month and/or year for advertising purposes. This information would allow the client to visually see the areas most rides are started so that they can increase Citi Bike advertising in other areas. Additionally, because the data will change depending on the chosen date range, the client will be able to check for changes in the most popular stations over time.\n",
    "\n",
    "The average trip duration and number of trips taken by age and gender could inform the client's decisions for the content in their advertisements. For example, if the marketing department knows that nearly all of their male uers between the ages of 30-40 took trips of about 50 minutes on average, they could advertise a specific subscription to people in that demographic. Additionally, with historical data about the number of trips taken by people of a specific age and gender, they can see which age groups and/or genders they should target in their advertisements to increase ridership.\n",
    "\n",
    "Finally, for the last question relating to the most popular times for Citi Bike use, if the client knows the most popular times for Citi Bike rides, they can use this information in their advertising campaigns by providing promotional events during those times or times when there are fewer people taking rides to increase ridership."
   ]
  },
  {
   "cell_type": "markdown",
   "metadata": {},
   "source": [
    "### What data are you going to use for this? How will you acquire this data?\n",
    "\n",
    "For this problem, I will use the system data provided by Citi Bike.\n",
    "\n",
    "https://www.citibikenyc.com/system-data"
   ]
  },
  {
   "cell_type": "markdown",
   "metadata": {},
   "source": [
    "### In brief, outline your approach to solving this problem (knowing that this might change later).\n",
    "\n",
    "My dataset is very large (30 million+ rows, one for each Citi Bike trip taken) and broken up into 40+ separate files (each file has data over a specific month and year). Unfortunately, Citi Bike has not uploaded data for 2017, so the data only includes rides taken through December 31st, 2016. For question 1, I will use the data from December of 2016 to approximate the current number of stations and their locations. \n",
    "\n",
    "Initially, I attempted to concatenate the files into one dataframe and do all the analysis based off of the consoidated data. This method caused my computer to crash several times, and it took much longer to run simple pieces of code because of the amount of memory expended by my computer. After talking to my mentor, AJ, I now plan on creating new CSV files for questions 2-5, one for each question, with the answers to those questions. For example, for question 2, I will loop through the 40+ separate files and send the 10 most popular stations with their name, station id, longitude, and latitude for a given month and year to one CSV. I will also include one column in the CSV for the month and year over which the metric is measured. I will repeat this process for the remaining questions."
   ]
  },
  {
   "cell_type": "markdown",
   "metadata": {},
   "source": [
    "### What are your deliverables? Typically, this would include code, along with a paper and/or a slide deck.\n",
    "\n",
    "My deliverables are the following:\n",
    "\n",
    "- code for my project that will be uploaded to Github in the form of 5 notebooks, one for each question\n",
    "- paper explaining the problem, approach with technical details, and recommendations for the client\n",
    "- a powerpoint presentation to show the client the results of my infographic/dashboard"
   ]
  }
 ],
 "metadata": {
  "anaconda-cloud": {},
  "kernelspec": {
   "display_name": "Python [conda root]",
   "language": "python",
   "name": "conda-root-py"
  },
  "language_info": {
   "codemirror_mode": {
    "name": "ipython",
    "version": 3
   },
   "file_extension": ".py",
   "mimetype": "text/x-python",
   "name": "python",
   "nbconvert_exporter": "python",
   "pygments_lexer": "ipython3",
   "version": "3.5.2"
  }
 },
 "nbformat": 4,
 "nbformat_minor": 1
}
